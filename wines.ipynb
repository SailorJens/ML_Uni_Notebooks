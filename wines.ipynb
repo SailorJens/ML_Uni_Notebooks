{
 "cells": [
  {
   "cell_type": "code",
   "execution_count": 71,
   "id": "27c4e672",
   "metadata": {},
   "outputs": [
    {
     "name": "stdout",
     "output_type": "stream",
     "text": [
      "          winery           wine  year  rating  num_reviews country  \\\n",
      "0  Teso La Monja          Tinto  2013     4.9           58  Espana   \n",
      "1         Artadi  Vina El Pison  2018     4.9           31  Espana   \n",
      "2   Vega Sicilia          Unico  2009     4.8         1793  Espana   \n",
      "3   Vega Sicilia          Unico  1999     4.8         1705  Espana   \n",
      "4   Vega Sicilia          Unico  1996     4.8         1309  Espana   \n",
      "\n",
      "             region   price                  type  body  acidity  \n",
      "0              Toro  995.00              Toro Red   5.0      3.0  \n",
      "1    Vino de Espana  313.50           Tempranillo   4.0      2.0  \n",
      "2  Ribera del Duero  324.95  Ribera Del Duero Red   5.0      3.0  \n",
      "3  Ribera del Duero  692.96  Ribera Del Duero Red   5.0      3.0  \n",
      "4  Ribera del Duero  778.06  Ribera Del Duero Red   5.0      3.0  \n"
     ]
    }
   ],
   "source": [
    "import pandas as pd\n",
    "\n",
    "df = pd.read_csv('data/wines_SPA.csv')\n",
    "\n",
    "print(df.head())"
   ]
  },
  {
   "cell_type": "code",
   "execution_count": 72,
   "id": "a791eecc",
   "metadata": {},
   "outputs": [
    {
     "data": {
      "text/plain": [
       "7500"
      ]
     },
     "execution_count": 72,
     "metadata": {},
     "output_type": "execute_result"
    }
   ],
   "source": [
    "len(df)"
   ]
  },
  {
   "cell_type": "code",
   "execution_count": 73,
   "id": "ee0b1064",
   "metadata": {},
   "outputs": [
    {
     "name": "stdout",
     "output_type": "stream",
     "text": [
      "                  winery        wine  year  rating  num_reviews country  \\\n",
      "2042              Artadi  Valdegines  2016     4.2          398  Espana   \n",
      "2067              Artadi  Valdegines  2016     4.2          398  Espana   \n",
      "2092              Artadi  Valdegines  2016     4.2          398  Espana   \n",
      "2117              Artadi  Valdegines  2016     4.2          398  Espana   \n",
      "2142              Artadi  Valdegines  2016     4.2          398  Espana   \n",
      "...                  ...         ...   ...     ...          ...     ...   \n",
      "5124  Vinedos de Paganos  El Puntido  2005     4.2          384  Espana   \n",
      "5524  Vinedos de Paganos  El Puntido  2005     4.2          384  Espana   \n",
      "5574  Vinedos de Paganos  El Puntido  2005     4.2          384  Espana   \n",
      "5874  Vinedos de Paganos  El Puntido  2005     4.2          384  Espana   \n",
      "5999  Vinedos de Paganos  El Puntido  2005     4.2          384  Espana   \n",
      "\n",
      "              region  price         type  body  acidity  \n",
      "2042  Vino de Espana  48.96  Tempranillo   4.0      2.0  \n",
      "2067  Vino de Espana  48.96  Tempranillo   4.0      2.0  \n",
      "2092  Vino de Espana  48.96  Tempranillo   4.0      2.0  \n",
      "2117  Vino de Espana  48.96  Tempranillo   4.0      2.0  \n",
      "2142  Vino de Espana  48.96  Tempranillo   4.0      2.0  \n",
      "...              ...    ...          ...   ...      ...  \n",
      "5124           Rioja  73.00    Rioja Red   NaN      NaN  \n",
      "5524           Rioja  73.00    Rioja Red   NaN      NaN  \n",
      "5574           Rioja  73.00    Rioja Red   NaN      NaN  \n",
      "5874           Rioja  73.00    Rioja Red   NaN      NaN  \n",
      "5999           Rioja  73.00    Rioja Red   NaN      NaN  \n",
      "\n",
      "[5503 rows x 11 columns]\n"
     ]
    }
   ],
   "source": [
    "df_sorted = df.sort_values(by=df.columns.tolist())\n",
    "\n",
    "print(df_sorted[df_sorted.duplicated(keep=False)])"
   ]
  },
  {
   "cell_type": "code",
   "execution_count": 74,
   "id": "211a6667",
   "metadata": {},
   "outputs": [
    {
     "name": "stdout",
     "output_type": "stream",
     "text": [
      "2048\n"
     ]
    }
   ],
   "source": [
    "df = df.drop_duplicates()\n",
    "print(len(df))\n"
   ]
  },
  {
   "cell_type": "code",
   "execution_count": 75,
   "id": "557efce3",
   "metadata": {},
   "outputs": [
    {
     "data": {
      "text/plain": [
       "winery           0\n",
       "wine             0\n",
       "year             2\n",
       "rating           0\n",
       "num_reviews      0\n",
       "country          0\n",
       "region           0\n",
       "price            0\n",
       "type           106\n",
       "body           271\n",
       "acidity        271\n",
       "dtype: int64"
      ]
     },
     "execution_count": 75,
     "metadata": {},
     "output_type": "execute_result"
    }
   ],
   "source": [
    "df.isnull().sum()"
   ]
  },
  {
   "cell_type": "code",
   "execution_count": 76,
   "id": "acb2b513",
   "metadata": {},
   "outputs": [
    {
     "name": "stdout",
     "output_type": "stream",
     "text": [
      "                      winery                                wine  year  \\\n",
      "120            Finca Moncloa                    Tintilla de Rota  2016   \n",
      "147          Rafael Palacios           Sorte O Soro Val do Bibei  2019   \n",
      "156     Gutierrez de la Vega  Recondita Armonia Monastrell Dulce  1987   \n",
      "254      Costers del Siurana                      Dolc de L'Obac  2006   \n",
      "288   Francisco Garcia Perez          Adega do Moucho Treixadura  2017   \n",
      "...                      ...                                 ...   ...   \n",
      "2021             Mustiguillo                     Finca Terrerazo  2017   \n",
      "2022             Matarromera                        Gran Reserva  2011   \n",
      "2023                Sei Solo                            Preludio  2016   \n",
      "2024      Vinedos de Paganos                          El Puntido  2005   \n",
      "6100       Remirez de Ganuza                        Rioja Blanco  2017   \n",
      "\n",
      "      rating  num_reviews country            region      price  \\\n",
      "120      4.7           92  Espana             Cadiz   43.13000   \n",
      "147      4.7           37  Espana        Valdeorras  194.86000   \n",
      "156      4.7           27  Espana          Alicante   81.90000   \n",
      "254      4.6           94  Espana          Priorato  117.23942   \n",
      "288      4.6           53  Espana           Ribeiro   34.50000   \n",
      "...      ...          ...     ...               ...        ...   \n",
      "2021     4.2          390  Espana      El Terrerazo   24.45000   \n",
      "2022     4.2          389  Espana  Ribera del Duero   64.50000   \n",
      "2023     4.2          388  Espana  Ribera del Duero   31.63000   \n",
      "2024     4.2          384  Espana             Rioja   73.00000   \n",
      "6100     4.2          421  Espana             Rioja   29.15000   \n",
      "\n",
      "                      type  body  acidity  \n",
      "120                    NaN   NaN      NaN  \n",
      "147                    NaN   NaN      NaN  \n",
      "156                    NaN   NaN      NaN  \n",
      "254                    NaN   NaN      NaN  \n",
      "288                    NaN   NaN      NaN  \n",
      "...                    ...   ...      ...  \n",
      "2021                   Red   NaN      NaN  \n",
      "2022  Ribera Del Duero Red   NaN      NaN  \n",
      "2023  Ribera Del Duero Red   NaN      NaN  \n",
      "2024             Rioja Red   NaN      NaN  \n",
      "6100           Rioja White   NaN      NaN  \n",
      "\n",
      "[271 rows x 11 columns]\n"
     ]
    }
   ],
   "source": [
    "df_missing_body = df[df['body'].isnull()]\n",
    "print(df_missing_body)"
   ]
  },
  {
   "cell_type": "markdown",
   "id": "7969dfa3",
   "metadata": {},
   "source": [
    "check for year that all values are actually years"
   ]
  },
  {
   "cell_type": "code",
   "execution_count": 77,
   "id": "d1f4d490",
   "metadata": {},
   "outputs": [
    {
     "name": "stdout",
     "output_type": "stream",
     "text": [
      "object\n"
     ]
    }
   ],
   "source": [
    "print(df['year'].dtype)"
   ]
  },
  {
   "cell_type": "markdown",
   "id": "2416fb51",
   "metadata": {},
   "source": [
    "they are not (object), so I force all non-numerical values to become NaN"
   ]
  },
  {
   "cell_type": "code",
   "execution_count": 78,
   "id": "ce53abb7",
   "metadata": {},
   "outputs": [],
   "source": [
    "df['year'] = pd.to_numeric(df['year'], errors='coerce')"
   ]
  },
  {
   "cell_type": "code",
   "execution_count": 79,
   "id": "b2934bce",
   "metadata": {},
   "outputs": [
    {
     "name": "stdout",
     "output_type": "stream",
     "text": [
      "float64\n"
     ]
    },
    {
     "data": {
      "text/plain": [
       "winery           0\n",
       "wine             0\n",
       "year            72\n",
       "rating           0\n",
       "num_reviews      0\n",
       "country          0\n",
       "region           0\n",
       "price            0\n",
       "type           106\n",
       "body           271\n",
       "acidity        271\n",
       "dtype: int64"
      ]
     },
     "execution_count": 79,
     "metadata": {},
     "output_type": "execute_result"
    }
   ],
   "source": [
    "# check again\n",
    "print(df['year'].dtype)\n",
    "df.isnull().sum()"
   ]
  },
  {
   "cell_type": "markdown",
   "id": "e938d0d2",
   "metadata": {},
   "source": [
    "Probably should repeat that for all numerical columns"
   ]
  },
  {
   "cell_type": "code",
   "execution_count": 81,
   "id": "a379b63a",
   "metadata": {},
   "outputs": [
    {
     "name": "stdout",
     "output_type": "stream",
     "text": [
      "Data Type for year: float64\n",
      "Data Type for rating: float64\n",
      "Data Type for num_reviews: int64\n",
      "Data Type for price: float64\n",
      "Data Type for acidity: float64\n"
     ]
    }
   ],
   "source": [
    "print(f\"Data Type for year: {df['year'].dtype}\")\n",
    "print(f\"Data Type for rating: {df['rating'].dtype}\")\n",
    "print(f\"Data Type for num_reviews: {df['num_reviews'].dtype}\")\n",
    "print(f\"Data Type for price: {df['price'].dtype}\")\n",
    "print(f\"Data Type for acidity: {df['acidity'].dtype}\")"
   ]
  },
  {
   "cell_type": "markdown",
   "id": "13884ab7",
   "metadata": {},
   "source": [
    "ok looks good. I can't change year to int64 because of the existing NaNs."
   ]
  },
  {
   "cell_type": "markdown",
   "id": "38f2015d",
   "metadata": {},
   "source": [
    "Check the data with reagrds to type, body and acidity\n",
    "1. is there a relationship between body and acidity missing?\n",
    "2. what about type and year?"
   ]
  },
  {
   "cell_type": "code",
   "execution_count": 57,
   "id": "9f8dee3b",
   "metadata": {},
   "outputs": [
    {
     "name": "stdout",
     "output_type": "stream",
     "text": [
      "Both missing: 271\n",
      "Only body missing: 0\n",
      "Only acidity missing: 0\n"
     ]
    }
   ],
   "source": [
    "# Boolean mask: both missing\n",
    "both_missing = df['body'].isna() & df['acidity'].isna()\n",
    "\n",
    "# Just feature_1 missing\n",
    "only_f1_missing = df['body'].isna() & df['acidity'].notna()\n",
    "\n",
    "# Just feature_2 missing\n",
    "only_f2_missing = df['acidity'].isna() & df['body'].notna()\n",
    "\n",
    "# Summary\n",
    "print(f\"Both missing: {both_missing.sum()}\")\n",
    "print(f\"Only body missing: {only_f1_missing.sum()}\")\n",
    "print(f\"Only acidity missing: {only_f2_missing.sum()}\")"
   ]
  },
  {
   "cell_type": "code",
   "execution_count": 58,
   "id": "b98501fc",
   "metadata": {},
   "outputs": [
    {
     "name": "stdout",
     "output_type": "stream",
     "text": [
      "Both missing: 106\n",
      "Only body missing: 165\n",
      "Only type missing: 0\n"
     ]
    }
   ],
   "source": [
    "# Boolean mask: both missing\n",
    "both_missing = df['body'].isna() & df['type'].isna()\n",
    "\n",
    "# Just feature_1 missing\n",
    "only_f1_missing = df['body'].isna() & df['type'].notna()\n",
    "\n",
    "# Just feature_2 missing\n",
    "only_f2_missing = df['type'].isna() & df['body'].notna()\n",
    "\n",
    "# Summary\n",
    "print(f\"Both missing: {both_missing.sum()}\")\n",
    "print(f\"Only body missing: {only_f1_missing.sum()}\")\n",
    "print(f\"Only type missing: {only_f2_missing.sum()}\")"
   ]
  },
  {
   "cell_type": "code",
   "execution_count": 82,
   "id": "27188948",
   "metadata": {},
   "outputs": [
    {
     "name": "stdout",
     "output_type": "stream",
     "text": [
      "Both missing: 9\n",
      "Only body missing: 262\n",
      "Only year missing: 63\n"
     ]
    }
   ],
   "source": [
    "# Boolean mask: both missing\n",
    "both_missing = df['body'].isna() & df['year'].isna()\n",
    "\n",
    "# Just feature_1 missing\n",
    "only_f1_missing = df['body'].isna() & df['year'].notna()\n",
    "\n",
    "# Just feature_2 missing\n",
    "only_f2_missing = df['year'].isna() & df['body'].notna()\n",
    "\n",
    "# Summary\n",
    "print(f\"Both missing: {both_missing.sum()}\")\n",
    "print(f\"Only body missing: {only_f1_missing.sum()}\")\n",
    "print(f\"Only year missing: {only_f2_missing.sum()}\")"
   ]
  },
  {
   "cell_type": "markdown",
   "id": "bf59779a",
   "metadata": {},
   "source": [
    "No overlap with year. Missing years have a different reason. "
   ]
  },
  {
   "cell_type": "markdown",
   "id": "9e18a397",
   "metadata": {},
   "source": [
    "Now, it could be that there are more duplicates, if the only reason is a missing value.\n",
    "I check for duplicates across all columns except the ones with missing values year, type, body, acidity)"
   ]
  },
  {
   "cell_type": "code",
   "execution_count": 85,
   "id": "ad6f853a",
   "metadata": {},
   "outputs": [
    {
     "name": "stdout",
     "output_type": "stream",
     "text": [
      "48\n",
      "                    winery                                wine    year  \\\n",
      "2042                Artadi                          Valdegines  2016.0   \n",
      "2017                Artadi                          Valdegines  2016.0   \n",
      "2033      Bodegas La Horra                           Corimbo I  2015.0   \n",
      "2008      Bodegas La Horra                           Corimbo I  2015.0   \n",
      "2035              Campillo                  Gran Reserva Rioja  2012.0   \n",
      "2010              Campillo                  Gran Reserva Rioja  2012.0   \n",
      "2027             Clos Pons                              Roc Nu  2011.0   \n",
      "2002             Clos Pons                              Roc Nu  2011.0   \n",
      "2045  Conreria d'Scala Dei                       Les Brugueres  2018.0   \n",
      "2020  Conreria d'Scala Dei                       Les Brugueres  2018.0   \n",
      "2044               Contino                             Reserva  2016.0   \n",
      "2019               Contino                             Reserva  2016.0   \n",
      "2043               Contino                      Rioja Graciano  2011.0   \n",
      "2018               Contino                      Rioja Graciano  2011.0   \n",
      "2026       Enrique Mendoza                          Santa Rosa  2017.0   \n",
      "2001       Enrique Mendoza                          Santa Rosa  2017.0   \n",
      "2029              Imperial                       Rioja Reserva  2004.0   \n",
      "2004              Imperial                       Rioja Reserva  2004.0   \n",
      "2032         La Rioja Alta                Vina Alberdi Crianza  2018.0   \n",
      "2007         La Rioja Alta                Vina Alberdi Crianza  2018.0   \n",
      "2025          La Vicalanda                             Reserva  2015.0   \n",
      "2000          La Vicalanda                             Reserva  2015.0   \n",
      "2030                Losada                     Altos de Losada  2018.0   \n",
      "2005                Losada                     Altos de Losada  2018.0   \n",
      "2037                Lustau           Candela Cream Dulce Sweet     NaN   \n",
      "2012                Lustau           Candela Cream Dulce Sweet     NaN   \n",
      "2031         Mar de Frades  Rias Baixas Albarino Finca Valinas  2015.0   \n",
      "2006         Mar de Frades  Rias Baixas Albarino Finca Valinas  2015.0   \n",
      "2047           Matarromera                        Gran Reserva  2011.0   \n",
      "2022           Matarromera                        Gran Reserva  2011.0   \n",
      "2041                 Matsu                            El Viejo  2019.0   \n",
      "2016                 Matsu                            El Viejo  2019.0   \n",
      "2046           Mustiguillo                     Finca Terrerazo  2017.0   \n",
      "2021           Mustiguillo                     Finca Terrerazo  2017.0   \n",
      "2038    Portal del Priorat               Clos del Portal Somni  2014.0   \n",
      "2013    Portal del Priorat               Clos del Portal Somni  2014.0   \n",
      "2040          Ramon Bilbao                               Mirto  2011.0   \n",
      "2015          Ramon Bilbao                               Mirto  2011.0   \n",
      "1999     Remirez de Ganuza                        Rioja Blanco  2017.0   \n",
      "6100     Remirez de Ganuza                        Rioja Blanco  2017.0   \n",
      "2048              Sei Solo                            Preludio  2016.0   \n",
      "2023              Sei Solo                            Preludio  2016.0   \n",
      "2028      Sierra Cantabria                   Coleccion Privada  2012.0   \n",
      "2003      Sierra Cantabria                   Coleccion Privada  2012.0   \n",
      "2034          Vina Pedrosa                        Gran Reserva  2011.0   \n",
      "2009          Vina Pedrosa                        Gran Reserva  2011.0   \n",
      "2049    Vinedos de Paganos                          El Puntido  2005.0   \n",
      "2024    Vinedos de Paganos                          El Puntido  2005.0   \n",
      "\n",
      "      rating  num_reviews country              region  price  \\\n",
      "2042     4.2          398  Espana      Vino de Espana  48.96   \n",
      "2017     4.2          398  Espana      Vino de Espana  48.96   \n",
      "2033     4.2          412  Espana    Ribera del Duero  37.90   \n",
      "2008     4.2          412  Espana    Ribera del Duero  37.90   \n",
      "2035     4.2          410  Espana               Rioja  22.99   \n",
      "2010     4.2          410  Espana               Rioja  22.99   \n",
      "2027     4.2          420  Espana   Costers del Segre  23.95   \n",
      "2002     4.2          420  Espana   Costers del Segre  23.95   \n",
      "2045     4.2          390  Espana            Priorato  16.76   \n",
      "2020     4.2          390  Espana            Priorato  16.76   \n",
      "2044     4.2          392  Espana               Rioja  19.98   \n",
      "2019     4.2          392  Espana               Rioja  19.98   \n",
      "2043     4.2          395  Espana               Rioja  61.94   \n",
      "2018     4.2          395  Espana               Rioja  61.94   \n",
      "2026     4.2          420  Espana            Alicante  18.90   \n",
      "2001     4.2          420  Espana            Alicante  18.90   \n",
      "2029     4.2          417  Espana               Rioja  45.00   \n",
      "2004     4.2          417  Espana               Rioja  45.00   \n",
      "2032     4.2          410  Espana               Rioja  13.58   \n",
      "2007     4.2          410  Espana               Rioja  13.58   \n",
      "2025     4.2          420  Espana               Rioja  17.50   \n",
      "2000     4.2          420  Espana               Rioja  17.50   \n",
      "2030     4.2          415  Espana              Bierzo  17.90   \n",
      "2005     4.2          415  Espana              Bierzo  17.90   \n",
      "2037     4.2          405  Espana  Jerez-Xeres-Sherry   7.10   \n",
      "2012     4.2          405  Espana  Jerez-Xeres-Sherry   7.10   \n",
      "2031     4.2          414  Espana         Rias Baixas  16.78   \n",
      "2006     4.2          414  Espana         Rias Baixas  16.78   \n",
      "2047     4.2          389  Espana    Ribera del Duero  64.50   \n",
      "2022     4.2          389  Espana    Ribera del Duero  64.50   \n",
      "2041     4.2          400  Espana                Toro  27.89   \n",
      "2016     4.2          400  Espana                Toro  27.89   \n",
      "2046     4.2          390  Espana        El Terrerazo  24.45   \n",
      "2021     4.2          390  Espana        El Terrerazo  24.45   \n",
      "2038     4.2          404  Espana            Priorato  77.36   \n",
      "2013     4.2          404  Espana            Priorato  77.36   \n",
      "2040     4.2          402  Espana               Rioja  28.53   \n",
      "2015     4.2          402  Espana               Rioja  28.53   \n",
      "1999     4.2          421  Espana               Rioja  29.15   \n",
      "6100     4.2          421  Espana               Rioja  29.15   \n",
      "2048     4.2          388  Espana    Ribera del Duero  31.63   \n",
      "2023     4.2          388  Espana    Ribera del Duero  31.63   \n",
      "2028     4.2          420  Espana               Rioja  28.30   \n",
      "2003     4.2          420  Espana               Rioja  28.30   \n",
      "2034     4.2          410  Espana    Ribera del Duero  51.35   \n",
      "2009     4.2          410  Espana    Ribera del Duero  51.35   \n",
      "2049     4.2          384  Espana               Rioja  73.00   \n",
      "2024     4.2          384  Espana               Rioja  73.00   \n",
      "\n",
      "                      type  body  acidity  \n",
      "2042           Tempranillo   4.0      2.0  \n",
      "2017           Tempranillo   NaN      NaN  \n",
      "2033  Ribera Del Duero Red   5.0      3.0  \n",
      "2008  Ribera Del Duero Red   NaN      NaN  \n",
      "2035             Rioja Red   4.0      3.0  \n",
      "2010             Rioja Red   NaN      NaN  \n",
      "2027                   Red   4.0      3.0  \n",
      "2002                   Red   NaN      NaN  \n",
      "2045           Priorat Red   4.0      3.0  \n",
      "2020           Priorat Red   NaN      NaN  \n",
      "2044             Rioja Red   4.0      3.0  \n",
      "2019             Rioja Red   NaN      NaN  \n",
      "2043             Rioja Red   4.0      3.0  \n",
      "2018             Rioja Red   NaN      NaN  \n",
      "2026                   Red   4.0      3.0  \n",
      "2001                   Red   NaN      NaN  \n",
      "2029             Rioja Red   4.0      3.0  \n",
      "2004             Rioja Red   NaN      NaN  \n",
      "2032             Rioja Red   4.0      3.0  \n",
      "2007             Rioja Red   NaN      NaN  \n",
      "2025             Rioja Red   4.0      3.0  \n",
      "2000             Rioja Red   NaN      NaN  \n",
      "2030                Mencia   3.0      3.0  \n",
      "2005                Mencia   NaN      NaN  \n",
      "2037                Sherry   4.0      3.0  \n",
      "2012                Sherry   NaN      NaN  \n",
      "2031              Albarino   3.0      3.0  \n",
      "2006              Albarino   NaN      NaN  \n",
      "2047  Ribera Del Duero Red   5.0      3.0  \n",
      "2022  Ribera Del Duero Red   NaN      NaN  \n",
      "2041              Toro Red   5.0      3.0  \n",
      "2016              Toro Red   NaN      NaN  \n",
      "2046                   Red   4.0      3.0  \n",
      "2021                   Red   NaN      NaN  \n",
      "2038           Priorat Red   4.0      3.0  \n",
      "2013           Priorat Red   NaN      NaN  \n",
      "2040             Rioja Red   4.0      3.0  \n",
      "2015             Rioja Red   NaN      NaN  \n",
      "1999           Rioja White   3.0      3.0  \n",
      "6100           Rioja White   NaN      NaN  \n",
      "2048  Ribera Del Duero Red   5.0      3.0  \n",
      "2023  Ribera Del Duero Red   NaN      NaN  \n",
      "2028             Rioja Red   4.0      3.0  \n",
      "2003             Rioja Red   NaN      NaN  \n",
      "2034  Ribera Del Duero Red   5.0      3.0  \n",
      "2009  Ribera Del Duero Red   NaN      NaN  \n",
      "2049             Rioja Red   4.0      3.0  \n",
      "2024             Rioja Red   NaN      NaN  \n"
     ]
    }
   ],
   "source": [
    "# all features: 'winery', 'wine', 'year', 'rating', 'num_reviews', 'country', 'region', 'price', 'type', 'body', 'acidity'\n",
    "df_sorted = df.sort_values(by=df.columns.tolist())\n",
    "possible_duplicates = df_sorted[df_sorted.duplicated(subset=['winery', 'wine', 'rating', 'num_reviews', 'country', 'region', 'price'], keep=False)]\n",
    "print(len(possible_duplicates))\n",
    "print(possible_duplicates)"
   ]
  },
  {
   "cell_type": "markdown",
   "id": "da75e6ba",
   "metadata": {},
   "source": [
    "We know now that there are 3 sets of data:\n",
    "- all data exist (majority)\n",
    "- body and acidity missing (624)\n",
    "- body, acidity and type missing (545)"
   ]
  },
  {
   "cell_type": "code",
   "execution_count": 22,
   "id": "c21c3985",
   "metadata": {},
   "outputs": [
    {
     "name": "stdout",
     "output_type": "stream",
     "text": [
      "Number of unique wineries: 480\n",
      "Number of unique wines: 847\n",
      "Number of unique years: 71\n",
      "Number of unique countries: 1\n",
      "Number of unique regions: 76\n",
      "Number of unique types: 21\n"
     ]
    }
   ],
   "source": [
    "\n",
    "\n",
    "# Check the number of categories for categorical data\n",
    "print(f\"Number of unique wineries: {df['winery'].nunique()}\")\n",
    "print(f\"Number of unique wines: {df['wine'].nunique()}\")\n",
    "print(f\"Number of unique years: {df['year'].nunique()}\")\n",
    "print(f\"Number of unique countries: {df['country'].nunique()}\")\n",
    "print(f\"Number of unique regions: {df['region'].nunique()}\")\n",
    "print(f\"Number of unique types: {df['type'].nunique()}\")\n"
   ]
  },
  {
   "cell_type": "markdown",
   "id": "9a7af5d9",
   "metadata": {},
   "source": [
    "I can drop the country feature, because all wines are from Spain, so there no information in this.\n"
   ]
  },
  {
   "cell_type": "code",
   "execution_count": 23,
   "id": "6fb26fad",
   "metadata": {},
   "outputs": [],
   "source": [
    "df = df.drop('country', axis=1)"
   ]
  },
  {
   "cell_type": "markdown",
   "id": "89a1cfd0",
   "metadata": {},
   "source": [
    "I want to check if wineries is a subcategory of region"
   ]
  },
  {
   "cell_type": "code",
   "execution_count": 27,
   "id": "9a1f1fa5",
   "metadata": {},
   "outputs": [
    {
     "name": "stdout",
     "output_type": "stream",
     "text": [
      "There are 52 wineries with more than one region\n",
      "winery\n",
      "Abadia Retuerta                              2\n",
      "Altanza                                      3\n",
      "Alvaro Domecq                                2\n",
      "Alvaro Palacios                              2\n",
      "Artadi                                       2\n",
      "Atlan & Artisan                              2\n",
      "Bodega Campo Eliseo                          2\n",
      "Bodega Otazu                                 2\n",
      "Bodegas 6o Elemento - Vino Sexto Elemento    2\n",
      "Bodegas Amaren                               2\n",
      "Bodegas Aragonesas                           2\n",
      "Bodegas Frontonio                            2\n",
      "Bodegas Mauro                                2\n",
      "Bodegas San Roman                            2\n",
      "Bodegas Tradicion                            5\n",
      "Bodegas Valduero                             2\n",
      "Bodegas Ximenez-Spinola                      2\n",
      "Bosque de Matasnos                           2\n",
      "Carlos Moro                                  2\n",
      "Casa Rojo                                    2\n",
      "Clos Mogador                                 2\n",
      "De Muller                                    2\n",
      "El Maestro Sierra                            2\n",
      "Emilio Moro                                  2\n",
      "Equipo Navazos                               2\n",
      "Familia Torres                               5\n",
      "Finca Rio Negro                              2\n",
      "Finca Torremilanos                           2\n",
      "Gonzalez-Byass                               3\n",
      "Gramona                                      3\n",
      "Harveys                                      2\n",
      "Javier Sanz Viticultor                       2\n",
      "Jimenez-Landi                                2\n",
      "Juan Pinero                                  2\n",
      "Marques de Riscal                            2\n",
      "Martin Codax                                 2\n",
      "Miguel Merino                                2\n",
      "Nin-Ortiz                                    2\n",
      "Ordonez                                      2\n",
      "Osborne                                      2\n",
      "Pago de Los Capellanes                       2\n",
      "Penafiel                                     2\n",
      "R. Lopez de Heredia                          2\n",
      "Raul Perez                                   3\n",
      "Recaredo                                     2\n",
      "Romate                                       4\n",
      "Sebio                                        2\n",
      "Telmo Rodriguez                              3\n",
      "Tomas Postigo                                2\n",
      "Valdespino                                   3\n",
      "Volver                                       2\n",
      "Williams & Humbert                           3\n",
      "Name: region, dtype: int64\n"
     ]
    },
    {
     "data": {
      "text/html": [
       "<div>\n",
       "<style scoped>\n",
       "    .dataframe tbody tr th:only-of-type {\n",
       "        vertical-align: middle;\n",
       "    }\n",
       "\n",
       "    .dataframe tbody tr th {\n",
       "        vertical-align: top;\n",
       "    }\n",
       "\n",
       "    .dataframe thead th {\n",
       "        text-align: right;\n",
       "    }\n",
       "</style>\n",
       "<table border=\"1\" class=\"dataframe\">\n",
       "  <thead>\n",
       "    <tr style=\"text-align: right;\">\n",
       "      <th></th>\n",
       "      <th>winery</th>\n",
       "      <th>wine</th>\n",
       "      <th>year</th>\n",
       "      <th>rating</th>\n",
       "      <th>num_reviews</th>\n",
       "      <th>region</th>\n",
       "      <th>price</th>\n",
       "      <th>type</th>\n",
       "      <th>body</th>\n",
       "      <th>acidity</th>\n",
       "    </tr>\n",
       "  </thead>\n",
       "  <tbody>\n",
       "    <tr>\n",
       "      <th>547</th>\n",
       "      <td>Romate</td>\n",
       "      <td>Cayetano del Pino Viejisimo Palo Cortado</td>\n",
       "      <td>N.V.</td>\n",
       "      <td>4.5</td>\n",
       "      <td>61</td>\n",
       "      <td>Jerez Palo Cortado</td>\n",
       "      <td>25.92</td>\n",
       "      <td>Sherry</td>\n",
       "      <td>4.0</td>\n",
       "      <td>3.0</td>\n",
       "    </tr>\n",
       "    <tr>\n",
       "      <th>964</th>\n",
       "      <td>Romate</td>\n",
       "      <td>Old &amp; Plus Pedro Ximenez</td>\n",
       "      <td>N.V.</td>\n",
       "      <td>4.4</td>\n",
       "      <td>64</td>\n",
       "      <td>Jerez Pedro Ximenes (PX)</td>\n",
       "      <td>42.12</td>\n",
       "      <td>Sherry</td>\n",
       "      <td>4.0</td>\n",
       "      <td>3.0</td>\n",
       "    </tr>\n",
       "    <tr>\n",
       "      <th>1091</th>\n",
       "      <td>Romate</td>\n",
       "      <td>Old &amp; Plus Amontillado</td>\n",
       "      <td>N.V.</td>\n",
       "      <td>4.4</td>\n",
       "      <td>28</td>\n",
       "      <td>Jerez Amontillado</td>\n",
       "      <td>15.84</td>\n",
       "      <td>Sherry</td>\n",
       "      <td>4.0</td>\n",
       "      <td>3.0</td>\n",
       "    </tr>\n",
       "    <tr>\n",
       "      <th>1792</th>\n",
       "      <td>Romate</td>\n",
       "      <td>Old &amp; Plus Oloroso</td>\n",
       "      <td>N.V.</td>\n",
       "      <td>4.3</td>\n",
       "      <td>28</td>\n",
       "      <td>Jerez Oloroso</td>\n",
       "      <td>45.00</td>\n",
       "      <td>Sherry</td>\n",
       "      <td>4.0</td>\n",
       "      <td>3.0</td>\n",
       "    </tr>\n",
       "  </tbody>\n",
       "</table>\n",
       "</div>"
      ],
      "text/plain": [
       "      winery                                      wine  year  rating  \\\n",
       "547   Romate  Cayetano del Pino Viejisimo Palo Cortado  N.V.     4.5   \n",
       "964   Romate                  Old & Plus Pedro Ximenez  N.V.     4.4   \n",
       "1091  Romate                    Old & Plus Amontillado  N.V.     4.4   \n",
       "1792  Romate                        Old & Plus Oloroso  N.V.     4.3   \n",
       "\n",
       "      num_reviews                    region  price    type  body  acidity  \n",
       "547            61        Jerez Palo Cortado  25.92  Sherry   4.0      3.0  \n",
       "964            64  Jerez Pedro Ximenes (PX)  42.12  Sherry   4.0      3.0  \n",
       "1091           28         Jerez Amontillado  15.84  Sherry   4.0      3.0  \n",
       "1792           28             Jerez Oloroso  45.00  Sherry   4.0      3.0  "
      ]
     },
     "execution_count": 27,
     "metadata": {},
     "output_type": "execute_result"
    }
   ],
   "source": [
    "regions_per_winery = df.groupby('winery')['region'].nunique()\n",
    "print(f\"There are {len(regions_per_winery[regions_per_winery > 1])} wineries with more than one region\")\n",
    "print(regions_per_winery[regions_per_winery > 1])\n",
    "df[df['winery'] == 'Romate']\n"
   ]
  },
  {
   "cell_type": "markdown",
   "id": "93456852",
   "metadata": {},
   "source": [
    "Realising that the year can also be \"n.v.\" which probably means not available. how many?"
   ]
  },
  {
   "cell_type": "code",
   "execution_count": 28,
   "id": "4ea60711",
   "metadata": {},
   "outputs": [
    {
     "data": {
      "text/plain": [
       "288"
      ]
     },
     "execution_count": 28,
     "metadata": {},
     "output_type": "execute_result"
    }
   ],
   "source": [
    "len(df[df['year'] == 'N.V.'])"
   ]
  },
  {
   "cell_type": "code",
   "execution_count": 30,
   "id": "6dfea297",
   "metadata": {},
   "outputs": [
    {
     "name": "stdout",
     "output_type": "stream",
     "text": [
      "      winery  wine  rating  num_reviews  region  price  type  body  acidity\n",
      "year                                                                       \n",
      "1910       1     1       1            1       1      1     1     1        1\n",
      "1922       1     1       1            1       1      1     1     1        1\n",
      "1925       1     1       1            1       1      1     1     1        1\n",
      "1928       1     1       1            1       1      1     1     1        1\n",
      "1929       1     1       1            1       1      1     1     1        1\n",
      "...      ...   ...     ...          ...     ...    ...   ...   ...      ...\n",
      "2018     145   177       8          138      41    172    16     3        3\n",
      "2019      86   104       7           89      35    105    18     4        3\n",
      "2020      34    35       6           29      17     33     9     3        1\n",
      "2021       6     6       3            6       2      5     3     1        1\n",
      "N.V.      38    69       7           60      13     65     3     2        2\n",
      "\n",
      "[71 rows x 9 columns]\n"
     ]
    }
   ],
   "source": [
    "years = df.groupby('year').nunique()\n",
    "print(years)"
   ]
  },
  {
   "cell_type": "code",
   "execution_count": 34,
   "id": "c225c0a1",
   "metadata": {},
   "outputs": [
    {
     "name": "stdout",
     "output_type": "stream",
     "text": [
      "                  winery        wine  year  rating  num_reviews  \\\n",
      "2042              Artadi  Valdegines  2016     4.2          398   \n",
      "2067              Artadi  Valdegines  2016     4.2          398   \n",
      "2092              Artadi  Valdegines  2016     4.2          398   \n",
      "2117              Artadi  Valdegines  2016     4.2          398   \n",
      "2142              Artadi  Valdegines  2016     4.2          398   \n",
      "...                  ...         ...   ...     ...          ...   \n",
      "5124  Vinedos de Paganos  El Puntido  2005     4.2          384   \n",
      "5524  Vinedos de Paganos  El Puntido  2005     4.2          384   \n",
      "5574  Vinedos de Paganos  El Puntido  2005     4.2          384   \n",
      "5874  Vinedos de Paganos  El Puntido  2005     4.2          384   \n",
      "5999  Vinedos de Paganos  El Puntido  2005     4.2          384   \n",
      "\n",
      "              region  price         type  body  acidity  \n",
      "2042  Vino de Espana  48.96  Tempranillo   4.0      2.0  \n",
      "2067  Vino de Espana  48.96  Tempranillo   4.0      2.0  \n",
      "2092  Vino de Espana  48.96  Tempranillo   4.0      2.0  \n",
      "2117  Vino de Espana  48.96  Tempranillo   4.0      2.0  \n",
      "2142  Vino de Espana  48.96  Tempranillo   4.0      2.0  \n",
      "...              ...    ...          ...   ...      ...  \n",
      "5124           Rioja  73.00    Rioja Red   NaN      NaN  \n",
      "5524           Rioja  73.00    Rioja Red   NaN      NaN  \n",
      "5574           Rioja  73.00    Rioja Red   NaN      NaN  \n",
      "5874           Rioja  73.00    Rioja Red   NaN      NaN  \n",
      "5999           Rioja  73.00    Rioja Red   NaN      NaN  \n",
      "\n",
      "[5503 rows x 10 columns]\n"
     ]
    }
   ],
   "source": [
    "df_sorted = df.sort_values(by=df.columns.tolist())\n",
    "\n",
    "print(df_sorted[df_sorted.duplicated(keep=False)])"
   ]
  }
 ],
 "metadata": {
  "kernelspec": {
   "display_name": ".venv",
   "language": "python",
   "name": "python3"
  },
  "language_info": {
   "codemirror_mode": {
    "name": "ipython",
    "version": 3
   },
   "file_extension": ".py",
   "mimetype": "text/x-python",
   "name": "python",
   "nbconvert_exporter": "python",
   "pygments_lexer": "ipython3",
   "version": "3.12.11"
  }
 },
 "nbformat": 4,
 "nbformat_minor": 5
}

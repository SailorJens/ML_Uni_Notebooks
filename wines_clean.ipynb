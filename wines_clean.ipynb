{
 "cells": [
  {
   "cell_type": "code",
   "execution_count": 1,
   "id": "80553ac4",
   "metadata": {},
   "outputs": [
    {
     "name": "stdout",
     "output_type": "stream",
     "text": [
      "            rating   num_reviews        price         body      acidity\n",
      "count  7500.000000   7500.000000  7500.000000  6331.000000  6331.000000\n",
      "mean      4.254933    451.109067    60.095822     4.158427     2.946612\n",
      "std       0.118029    723.001856   150.356676     0.583352     0.248202\n",
      "min       4.200000     25.000000     4.990000     2.000000     1.000000\n",
      "25%       4.200000    389.000000    18.900000     4.000000     3.000000\n",
      "50%       4.200000    404.000000    28.530000     4.000000     3.000000\n",
      "75%       4.200000    415.000000    51.350000     5.000000     3.000000\n",
      "max       4.900000  32624.000000  3119.080000     5.000000     3.000000\n"
     ]
    }
   ],
   "source": [
    "import pandas as pd\n",
    "\n",
    "df = pd.read_csv('wines_SPA.csv')\n",
    "print(df.describe())"
   ]
  }
 ],
 "metadata": {
  "kernelspec": {
   "display_name": ".venv",
   "language": "python",
   "name": "python3"
  },
  "language_info": {
   "codemirror_mode": {
    "name": "ipython",
    "version": 3
   },
   "file_extension": ".py",
   "mimetype": "text/x-python",
   "name": "python",
   "nbconvert_exporter": "python",
   "pygments_lexer": "ipython3",
   "version": "3.12.11"
  }
 },
 "nbformat": 4,
 "nbformat_minor": 5
}

{
 "cells": [
  {
   "cell_type": "markdown",
   "metadata": {
    "id": "Ih3TrpA0rzvc"
   },
   "source": [
    "# Assessment: Weekly deliverable template - Regression\n",
    "<font color='#AC135A'>**Applied Machine Learning** - **Sheffield Hallam University**</font>\n",
    "\n",
    "\n",
    "---\n",
    "\n",
    "## Introduction\n",
    "Add your solutions to the different sub-tasks requested for this deliverable.\n",
    "\n",
    "<font color='red'>DO NOT ADD MORE CELLS TO THE FINAL VERSION OF THIS NOTEBOOK."
   ]
  },
  {
   "cell_type": "markdown",
   "metadata": {
    "id": "R2GxruY5O0A2"
   },
   "source": [
    "### 1. Dataset loading"
   ]
  },
  {
   "cell_type": "code",
   "execution_count": 1,
   "metadata": {
    "id": "QAGVCU0gqFwj"
   },
   "outputs": [
    {
     "name": "stdout",
     "output_type": "stream",
     "text": [
      "            rating   num_reviews        price         body      acidity\n",
      "count  7500.000000   7500.000000  7500.000000  6331.000000  6331.000000\n",
      "mean      4.254933    451.109067    60.095822     4.158427     2.946612\n",
      "std       0.118029    723.001856   150.356676     0.583352     0.248202\n",
      "min       4.200000     25.000000     4.990000     2.000000     1.000000\n",
      "25%       4.200000    389.000000    18.900000     4.000000     3.000000\n",
      "50%       4.200000    404.000000    28.530000     4.000000     3.000000\n",
      "75%       4.200000    415.000000    51.350000     5.000000     3.000000\n",
      "max       4.900000  32624.000000  3119.080000     5.000000     3.000000\n"
     ]
    }
   ],
   "source": [
    "import pandas as pd\n",
    "\n",
    "df = pd.read_csv('wines_SPA.csv')\n",
    "print(df.describe())"
   ]
  },
  {
   "cell_type": "markdown",
   "metadata": {
    "id": "U0kcDUa2O5W9"
   },
   "source": [
    "**Observations:**  \n",
    "\n"
   ]
  },
  {
   "cell_type": "markdown",
   "metadata": {
    "id": "WkJsPP6wPIaV"
   },
   "source": [
    "### 2. At least two exploratory graphs with captions\n",
    "\n"
   ]
  },
  {
   "cell_type": "code",
   "execution_count": null,
   "metadata": {
    "id": "oKpiKosDPXN9"
   },
   "outputs": [],
   "source": [
    "# ---- Your code here ----"
   ]
  },
  {
   "cell_type": "markdown",
   "metadata": {
    "id": "eLTgeF7cP0qn"
   },
   "source": [
    "**Observations:**  "
   ]
  },
  {
   "cell_type": "markdown",
   "metadata": {
    "id": "kmcmWCYOPXj9"
   },
   "source": [
    "### 3. Histogram showing rating imbalance (if any)\n"
   ]
  },
  {
   "cell_type": "code",
   "execution_count": null,
   "metadata": {
    "id": "bsUJYXMpPgJd"
   },
   "outputs": [],
   "source": [
    "# ---- Your code here ----"
   ]
  },
  {
   "cell_type": "markdown",
   "metadata": {
    "id": "CmkwY1OKP1X_"
   },
   "source": [
    "**Observations:**  "
   ]
  },
  {
   "cell_type": "markdown",
   "metadata": {
    "id": "lQuTlNBrPgdV"
   },
   "source": [
    "### 4. Price-regression model + metrics + plot\n"
   ]
  },
  {
   "cell_type": "code",
   "execution_count": null,
   "metadata": {
    "id": "0S5I_o5rPkx8"
   },
   "outputs": [],
   "source": [
    "# ---- Your code here ----"
   ]
  },
  {
   "cell_type": "markdown",
   "metadata": {
    "id": "ADZHfhQmP2G1"
   },
   "source": [
    "**Observations:**  "
   ]
  },
  {
   "cell_type": "markdown",
   "metadata": {
    "id": "Dl1AJn4nPlH0"
   },
   "source": [
    "### 5. Quality-regression model + metrics + plot\n"
   ]
  },
  {
   "cell_type": "code",
   "execution_count": null,
   "metadata": {
    "id": "-UM9QBXIPnts"
   },
   "outputs": [],
   "source": [
    "# ---- Your code here ----"
   ]
  },
  {
   "cell_type": "markdown",
   "metadata": {
    "id": "qoQ0iRQ7P2o0"
   },
   "source": [
    "**Observations:**  "
   ]
  },
  {
   "cell_type": "markdown",
   "metadata": {
    "id": "4GlUHUaNPoF0"
   },
   "source": [
    "### 6. Over/under-fitting discussion and fix"
   ]
  },
  {
   "cell_type": "code",
   "execution_count": null,
   "metadata": {
    "id": "67XKmjB8Pq4c"
   },
   "outputs": [],
   "source": [
    "# ---- Your code here ----"
   ]
  },
  {
   "cell_type": "markdown",
   "metadata": {
    "id": "uEi87AZRP3UC"
   },
   "source": [
    "**Observations:**  "
   ]
  },
  {
   "cell_type": "markdown",
   "metadata": {
    "id": "7odzWG7bPrNE"
   },
   "source": [
    "### 7. Apply cross-validation or statistical analyses on the features or results of the regression models (advanced)"
   ]
  },
  {
   "cell_type": "code",
   "execution_count": null,
   "metadata": {
    "id": "JJ6rpHYmPxYc"
   },
   "outputs": [],
   "source": [
    "# ---- Your code here ----"
   ]
  },
  {
   "cell_type": "markdown",
   "metadata": {
    "id": "iInpxtArP3-V"
   },
   "source": [
    "**Observations:**  "
   ]
  }
 ],
 "metadata": {
  "colab": {
   "authorship_tag": "ABX9TyO2RmBRwLyyZTJP8vv8Z0si",
   "provenance": []
  },
  "kernelspec": {
   "display_name": ".venv",
   "language": "python",
   "name": "python3"
  },
  "language_info": {
   "codemirror_mode": {
    "name": "ipython",
    "version": 3
   },
   "file_extension": ".py",
   "mimetype": "text/x-python",
   "name": "python",
   "nbconvert_exporter": "python",
   "pygments_lexer": "ipython3",
   "version": "3.12.11"
  }
 },
 "nbformat": 4,
 "nbformat_minor": 0
}

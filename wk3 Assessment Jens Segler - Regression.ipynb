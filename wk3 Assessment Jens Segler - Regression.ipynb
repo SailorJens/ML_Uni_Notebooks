{
 "cells": [
  {
   "cell_type": "markdown",
   "metadata": {
    "id": "Ih3TrpA0rzvc"
   },
   "source": [
    "# Assessment: Weekly deliverable template - Regression\n",
    "<font color='#AC135A'>**Applied Machine Learning** - **Sheffield Hallam University**</font>\n",
    "\n",
    "\n",
    "---\n",
    "\n",
    "## Introduction\n",
    "Add your solutions to the different sub-tasks requested for this deliverable.\n",
    "\n",
    "<font color='red'>DO NOT ADD MORE CELLS TO THE FINAL VERSION OF THIS NOTEBOOK."
   ]
  },
  {
   "cell_type": "markdown",
   "metadata": {
    "id": "R2GxruY5O0A2"
   },
   "source": [
    "### 1. Dataset loading"
   ]
  },
  {
   "cell_type": "code",
   "execution_count": 1,
   "metadata": {
    "id": "QAGVCU0gqFwj"
   },
   "outputs": [
    {
     "name": "stdout",
     "output_type": "stream",
     "text": [
      "            rating   num_reviews        price         body      acidity\n",
      "count  7500.000000   7500.000000  7500.000000  6331.000000  6331.000000\n",
      "mean      4.254933    451.109067    60.095822     4.158427     2.946612\n",
      "std       0.118029    723.001856   150.356676     0.583352     0.248202\n",
      "min       4.200000     25.000000     4.990000     2.000000     1.000000\n",
      "25%       4.200000    389.000000    18.900000     4.000000     3.000000\n",
      "50%       4.200000    404.000000    28.530000     4.000000     3.000000\n",
      "75%       4.200000    415.000000    51.350000     5.000000     3.000000\n",
      "max       4.900000  32624.000000  3119.080000     5.000000     3.000000\n"
     ]
    }
   ],
   "source": [
    "import pandas as pd\n",
    "\n",
    "df = pd.read_csv('wines_SPA.csv')\n",
    "print(df.describe())"
   ]
  },
  {
   "cell_type": "markdown",
   "metadata": {
    "id": "U0kcDUa2O5W9"
   },
   "source": [
    "**Observations:**  \n",
    "\n",
    "Comparing the csv file with the \"describe()\" out put, I can see that \"describe\" only shows numerical columns. Several categorical columns do not show. \n",
    "\n",
    "I can see that there are many examples in this dataset, 7,500. \n",
    "\n",
    "*Rating*\n",
    "\n",
    "The rating values have a range between 4.2 and 4.9. The 75% quartile is at 4.2, the minimum. Adding the std to the mean shows that 68% of examples have a rating below 4.4, and 95% below 4.5.  This shows that this variable is very much imbalanced. The standard deviation is correspondingly small. The name suggests this is likely a target variable as the user rating is something businesses may want to predict. \n",
    "\n",
    "*num_reviews*\n",
    "\n",
    "From the name I infer that this is the number of available reviews that lead to the \"rating\". The range is very high between 25 and 32.624. However, the 25% and 75% quartiles are in the same magnitude at 389 and 415, respectively. This shows that 50% of review numbers are in this range. The location is skewed to lower values. The standard deviation is quite high though. Only 68% of examples will have review numbers below mean+std = 1174, and 95% are below mean+2*std = 1897. (I'm ignoring the bottom because the minimum value is higher than mean-std.) This suggest we definitely can see some outliers at the top end (32,624), which we may want to handle somehow. \n",
    "\n",
    "*price*\n",
    "\n",
    "We see similar behaviour of the price data: A huge range (4.99–3119.08), a relatively strong 25-75% range (18.9-51.35) that is located at the lower proce range, and again a very high standard deviation that shows that only 68% of examples have a price below 210.45, while 95% have a price below 360.81. The expectation again is to have some outliers at the top end. It may be an interesting question if the price correlates to rating in some way. Also, the expectation is that the number of reviews is higher towards the lower end of the price range. \n",
    "\n",
    "*body and acidity*\n",
    "\n",
    "The count is lower than for the previous three attributes (6331 instead of 7500). This means there are a significant number of missing values. If we use body as a feature this is something we need to take into consideration. As for the values, the range for body is between 2.0 and 5.0, and we don't see any decimals. This could mean this body is likely determined as a rating between 1 and 5. For acidity the range is even smaller: 1.0-3.0. 95% of examples have ratings for body and acity of 3 and more, or actually only 3 for acidity. This suggests that we can dismiss acidity as a feature, as there is no information in this value. We'll need to also be critical about body as a feature. \n",
    "\n",
    "\n",
    "\n",
    "\n",
    "\n",
    "\n"
   ]
  },
  {
   "cell_type": "markdown",
   "metadata": {
    "id": "WkJsPP6wPIaV"
   },
   "source": [
    "### 2. At least two exploratory graphs with captions\n",
    "\n"
   ]
  },
  {
   "cell_type": "code",
   "execution_count": null,
   "metadata": {
    "id": "oKpiKosDPXN9"
   },
   "outputs": [],
   "source": [
    "# ---- Your code here ----"
   ]
  },
  {
   "cell_type": "markdown",
   "metadata": {
    "id": "eLTgeF7cP0qn"
   },
   "source": [
    "**Observations:**  "
   ]
  },
  {
   "cell_type": "markdown",
   "metadata": {
    "id": "kmcmWCYOPXj9"
   },
   "source": [
    "### 3. Histogram showing rating imbalance (if any)\n"
   ]
  },
  {
   "cell_type": "code",
   "execution_count": null,
   "metadata": {
    "id": "bsUJYXMpPgJd"
   },
   "outputs": [],
   "source": [
    "# ---- Your code here ----"
   ]
  },
  {
   "cell_type": "markdown",
   "metadata": {
    "id": "CmkwY1OKP1X_"
   },
   "source": [
    "**Observations:**  "
   ]
  },
  {
   "cell_type": "markdown",
   "metadata": {
    "id": "lQuTlNBrPgdV"
   },
   "source": [
    "### 4. Price-regression model + metrics + plot\n"
   ]
  },
  {
   "cell_type": "code",
   "execution_count": null,
   "metadata": {
    "id": "0S5I_o5rPkx8"
   },
   "outputs": [],
   "source": [
    "# ---- Your code here ----"
   ]
  },
  {
   "cell_type": "markdown",
   "metadata": {
    "id": "ADZHfhQmP2G1"
   },
   "source": [
    "**Observations:**  "
   ]
  },
  {
   "cell_type": "markdown",
   "metadata": {
    "id": "Dl1AJn4nPlH0"
   },
   "source": [
    "### 5. Quality-regression model + metrics + plot\n"
   ]
  },
  {
   "cell_type": "code",
   "execution_count": null,
   "metadata": {
    "id": "-UM9QBXIPnts"
   },
   "outputs": [],
   "source": [
    "# ---- Your code here ----"
   ]
  },
  {
   "cell_type": "markdown",
   "metadata": {
    "id": "qoQ0iRQ7P2o0"
   },
   "source": [
    "**Observations:**  "
   ]
  },
  {
   "cell_type": "markdown",
   "metadata": {
    "id": "4GlUHUaNPoF0"
   },
   "source": [
    "### 6. Over/under-fitting discussion and fix"
   ]
  },
  {
   "cell_type": "code",
   "execution_count": null,
   "metadata": {
    "id": "67XKmjB8Pq4c"
   },
   "outputs": [],
   "source": [
    "# ---- Your code here ----"
   ]
  },
  {
   "cell_type": "markdown",
   "metadata": {
    "id": "uEi87AZRP3UC"
   },
   "source": [
    "**Observations:**  "
   ]
  },
  {
   "cell_type": "markdown",
   "metadata": {
    "id": "7odzWG7bPrNE"
   },
   "source": [
    "### 7. Apply cross-validation or statistical analyses on the features or results of the regression models (advanced)"
   ]
  },
  {
   "cell_type": "code",
   "execution_count": null,
   "metadata": {
    "id": "JJ6rpHYmPxYc"
   },
   "outputs": [],
   "source": [
    "# ---- Your code here ----"
   ]
  },
  {
   "cell_type": "markdown",
   "metadata": {
    "id": "iInpxtArP3-V"
   },
   "source": [
    "**Observations:**  "
   ]
  }
 ],
 "metadata": {
  "colab": {
   "authorship_tag": "ABX9TyO2RmBRwLyyZTJP8vv8Z0si",
   "provenance": []
  },
  "kernelspec": {
   "display_name": ".venv",
   "language": "python",
   "name": "python3"
  },
  "language_info": {
   "codemirror_mode": {
    "name": "ipython",
    "version": 3
   },
   "file_extension": ".py",
   "mimetype": "text/x-python",
   "name": "python",
   "nbconvert_exporter": "python",
   "pygments_lexer": "ipython3",
   "version": "3.12.11"
  }
 },
 "nbformat": 4,
 "nbformat_minor": 0
}

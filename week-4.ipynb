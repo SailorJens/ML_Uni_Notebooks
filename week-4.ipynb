{
 "cells": [
  {
   "cell_type": "code",
   "execution_count": 1,
   "id": "da66f0d3",
   "metadata": {
    "_cell_guid": "b1076dfc-b9ad-4769-8c92-a6c4dae69d19",
    "_uuid": "8f2839f25d086af736a60e9eeb907d3b93b6e0e5",
    "execution": {
     "iopub.execute_input": "2025-09-20T17:58:17.265162Z",
     "iopub.status.busy": "2025-09-20T17:58:17.264911Z",
     "iopub.status.idle": "2025-09-20T17:58:19.260371Z",
     "shell.execute_reply": "2025-09-20T17:58:19.259495Z"
    },
    "papermill": {
     "duration": 1.999359,
     "end_time": "2025-09-20T17:58:19.261630",
     "exception": false,
     "start_time": "2025-09-20T17:58:17.262271",
     "status": "completed"
    },
    "tags": []
   },
   "outputs": [],
   "source": [
    "# This Python 3 environment comes with many helpful analytics libraries installed\n",
    "# It is defined by the kaggle/python Docker image: https://github.com/kaggle/docker-python\n",
    "# For example, here's several helpful packages to load\n",
    "\n",
    "import numpy as np # linear algebra\n",
    "import pandas as pd # data processing, CSV file I/O (e.g. pd.read_csv)\n",
    "\n",
    "# Input data files are available in the read-only \"../input/\" directory\n",
    "# For example, running this (by clicking run or pressing Shift+Enter) will list all files under the input directory\n",
    "\n",
    "import os\n",
    "for dirname, _, filenames in os.walk('/kaggle/input'):\n",
    "    for filename in filenames:\n",
    "        print(os.path.join(dirname, filename))\n",
    "\n",
    "# You can write up to 20GB to the current directory (/kaggle/working/) that gets preserved as output when you create a version using \"Save & Run All\" \n",
    "# You can also write temporary files to /kaggle/temp/, but they won't be saved outside of the current session"
   ]
  },
  {
   "cell_type": "code",
   "execution_count": 7,
   "id": "bb9a578a",
   "metadata": {
    "execution": {
     "iopub.execute_input": "2025-09-20T17:58:19.265496Z",
     "iopub.status.busy": "2025-09-20T17:58:19.265196Z",
     "iopub.status.idle": "2025-09-20T17:58:22.793878Z",
     "shell.execute_reply": "2025-09-20T17:58:22.793276Z"
    },
    "papermill": {
     "duration": 3.531964,
     "end_time": "2025-09-20T17:58:22.795240",
     "exception": false,
     "start_time": "2025-09-20T17:58:19.263276",
     "status": "completed"
    },
    "tags": []
   },
   "outputs": [],
   "source": [
    "import pandas as pd\n",
    "import re\n",
    "\n",
    "from nltk.corpus import stopwords\n",
    "from nltk.stem import WordNetLemmatizer\n",
    "from sklearn.feature_extraction.text import TfidfVectorizer\n",
    "from sklearn.model_selection import train_test_split\n",
    "from sklearn.linear_model import LogisticRegression\n",
    "from sklearn.metrics import classification_report, accuracy_score\n",
    "\n",
    "\n"
   ]
  },
  {
   "cell_type": "code",
   "execution_count": 22,
   "id": "e816deb6",
   "metadata": {
    "execution": {
     "iopub.execute_input": "2025-09-20T17:58:22.800033Z",
     "iopub.status.busy": "2025-09-20T17:58:22.799207Z",
     "iopub.status.idle": "2025-09-20T17:59:35.376595Z",
     "shell.execute_reply": "2025-09-20T17:59:35.375647Z"
    },
    "papermill": {
     "duration": 72.580853,
     "end_time": "2025-09-20T17:59:35.377886",
     "exception": false,
     "start_time": "2025-09-20T17:58:22.797033",
     "status": "completed"
    },
    "tags": []
   },
   "outputs": [],
   "source": [
    "import nltk\n",
    "\n",
    "# ---------------- Load data ----------------\n",
    "train_df = pd.read_csv(\"data/train.csv\")\n",
    "test_df = pd.read_csv(\"data/test.csv\")\n",
    "\n",
    "\n",
    "train_df = train_df.rename(columns={\"comment_text\": \"text\", \"psychotic_depression\": \"label\"})\n",
    "test_df = test_df.rename(columns={\"comment_text\": \"text\"})\n",
    "\n",
    "# ---------------- Preprocessing ----------------\n",
    "# nltk.download(\"stopwords\")\n",
    "# nltk.download(\"wordnet\")\n",
    "\n",
    "stop_words = set(stopwords.words(\"english\"))\n",
    "lemmatizer = WordNetLemmatizer()\n",
    "\n",
    "def clean_text(text):\n",
    "    text = str(text).lower()\n",
    "    text = re.sub(r\"[^a-z\\s]\", \"\", text)\n",
    "    tokens = text.split()\n",
    "    tokens = [lemmatizer.lemmatize(word) for word in tokens if word not in stop_words]\n",
    "    return \" \".join(tokens)\n",
    "\n",
    "train_df[\"cleaned_text\"] = train_df[\"text\"].apply(clean_text)\n",
    "test_df[\"cleaned_text\"] = test_df[\"text\"].apply(clean_text)\n",
    "\n",
    "\n",
    "\n"
   ]
  },
  {
   "cell_type": "code",
   "execution_count": 23,
   "id": "e099120a",
   "metadata": {},
   "outputs": [
    {
     "name": "stdout",
     "output_type": "stream",
     "text": [
      "                      id                                               text  \\\n",
      "81686   da82184f0c83bb49  ...people displaced people... \\n[number of peo...   \n",
      "123091  926d9f19698cdcbd  \"\\nAdding:  If you really could not see how yo...   \n",
      "2973    0803dfe4c5e84b27               No worries I see this has been done.   \n",
      "158465  ee4fbeb6ceee71bb  \"\\nOddly enough, I am truly agnostic on this p...   \n",
      "89270   eec837d78c760cc5  Ask yourself a question: What does a random ph...   \n",
      "80160   d67c8994f235df5d  Wankel engine\\nYour text is sure not documente...   \n",
      "67544   b4befbd3588e33c0  Don't hide the incriminating photographs you N...   \n",
      "159486  fed9fcfd8505a0ad                   , spent by private U.S. citizens   \n",
      "124418  99a111f58d49a730  \"\\n\\n Please do not vandalize pages, as you di...   \n",
      "147131  37636eb681066661  Yohan cabaye  \\n\\nThe yohan cabaye info was no...   \n",
      "\n",
      "        label                                       cleaned_text  \n",
      "81686       0  people displaced people number people displace...  \n",
      "123091      0  adding really could see comment could come acr...  \n",
      "2973        0                                     worry see done  \n",
      "158465      0  oddly enough truly agnostic particular bit sof...  \n",
      "89270       0  ask question random photo sunset low technical...  \n",
      "80160       0  wankel engine text sure documented think never...  \n",
      "67544       1  dont hide incriminating photograph nazi americ...  \n",
      "159486      0                            spent private u citizen  \n",
      "124418      0  please vandalize page edit translation geometr...  \n",
      "147131      1  yohan cabaye yohan cabaye info incorrect dont ...  \n"
     ]
    }
   ],
   "source": [
    "\n",
    "print(train_df.sample(10))"
   ]
  },
  {
   "cell_type": "code",
   "execution_count": 24,
   "id": "778dd2f4",
   "metadata": {},
   "outputs": [],
   "source": [
    "# ---------------- TF-IDF with bigrams ----------------\n",
    "vectorizer = TfidfVectorizer(max_features=20000, ngram_range=(1,2))\n",
    "X = vectorizer.fit_transform(train_df[\"cleaned_text\"])\n",
    "y = train_df[\"label\"]\n",
    "\n",
    "X_test_final = vectorizer.transform(test_df[\"cleaned_text\"])"
   ]
  },
  {
   "cell_type": "code",
   "execution_count": 31,
   "id": "e574cab8",
   "metadata": {},
   "outputs": [
    {
     "name": "stdout",
     "output_type": "stream",
     "text": [
      "(159571, 20000)\n",
      "(153164, 3)\n"
     ]
    }
   ],
   "source": [
    "print(X.shape)\n",
    "print(test_df.shape)"
   ]
  },
  {
   "cell_type": "code",
   "execution_count": 34,
   "id": "46623ef4",
   "metadata": {},
   "outputs": [
    {
     "name": "stdout",
     "output_type": "stream",
     "text": [
      "TRAINING DATA\n",
      "Validation Accuracy: 0.9486432286770696\n",
      "              precision    recall  f1-score   support\n",
      "\n",
      "           0       0.99      0.95      0.97    115421\n",
      "           1       0.66      0.94      0.78     12235\n",
      "\n",
      "    accuracy                           0.95    127656\n",
      "   macro avg       0.83      0.95      0.87    127656\n",
      "weighted avg       0.96      0.95      0.95    127656\n",
      "\n",
      "TEST DATA\n",
      "(31915,)\n",
      "Validation Accuracy: 0.9373962086793044\n",
      "              precision    recall  f1-score   support\n",
      "\n",
      "           0       0.99      0.95      0.96     28856\n",
      "           1       0.63      0.87      0.73      3059\n",
      "\n",
      "    accuracy                           0.94     31915\n",
      "   macro avg       0.81      0.91      0.85     31915\n",
      "weighted avg       0.95      0.94      0.94     31915\n",
      "\n"
     ]
    }
   ],
   "source": [
    "\n",
    "\n",
    "\n",
    "\n",
    "# ---------------- Train/Validation split ----------------\n",
    "X_train, X_val, y_train, y_val = train_test_split(\n",
    "    X, y, test_size=0.2, random_state=42, stratify=y\n",
    ")\n",
    "\n",
    "# ---------------- Improved Logistic Regression ----------------\n",
    "model = LogisticRegression(max_iter=300, class_weight=\"balanced\")  \n",
    "model.fit(X_train, y_train)\n",
    "\n",
    "\n",
    "print(\"TRAINING DATA\")\n",
    "y_train_pred = model.predict(X_train)\n",
    "\n",
    "print(\"Validation Accuracy:\", accuracy_score(y_train, y_train_pred))\n",
    "print(classification_report(y_train, y_train_pred))\n",
    "\n",
    "print(\"TEST DATA\")\n",
    "\n",
    "# ---------------- Validation ----------------\n",
    "y_val_pred = model.predict(X_val)\n",
    "print(y_val.shape)\n",
    "print(\"Validation Accuracy:\", accuracy_score(y_val, y_val_pred))\n",
    "print(classification_report(y_val, y_val_pred))\n",
    "\n",
    "# ---------------- Predict on test.csv ----------------\n",
    "test_predictions = model.predict(X_test_final)\n",
    "\n",
    "\n"
   ]
  },
  {
   "cell_type": "code",
   "execution_count": 37,
   "id": "bc1e2325",
   "metadata": {},
   "outputs": [
    {
     "name": "stderr",
     "output_type": "stream",
     "text": [
      "/Users/jusegler/Documents/Code/ML_Uni_Notebooks/.venv/lib/python3.12/site-packages/xgboost/training.py:183: UserWarning: [10:05:56] WARNING: /Users/runner/work/xgboost/xgboost/src/learner.cc:738: \n",
      "Parameters: { \"use_label_encoder\" } are not used.\n",
      "\n",
      "  bst.update(dtrain, iteration=i, fobj=obj)\n"
     ]
    },
    {
     "name": "stdout",
     "output_type": "stream",
     "text": [
      "Accuracy: 0.9561\n"
     ]
    }
   ],
   "source": [
    "from xgboost import XGBClassifier\n",
    "\n",
    "\n",
    "# --- Step 3: Train XGBoost on sparse data ---\n",
    "model_xgb = XGBClassifier(\n",
    "    objective='binary:logistic',\n",
    "    eval_metric='logloss',\n",
    "    use_label_encoder=False,\n",
    "    tree_method='hist',  # Efficient for large sparse data\n",
    "    n_jobs=-1,\n",
    "    verbosity=1\n",
    ")\n",
    "\n",
    "model_xgb.fit(X_train, y_train)\n",
    "\n",
    "# --- Step 4: Evaluate ---\n",
    "y_pred_xgb_val = model_xgb.predict(X_val)\n",
    "acc = accuracy_score(y_val, y_pred_xgb_val)\n",
    "\n",
    "print(f\"Accuracy: {acc:.4f}\")\n"
   ]
  },
  {
   "cell_type": "code",
   "execution_count": 38,
   "id": "cb2b8428",
   "metadata": {},
   "outputs": [
    {
     "name": "stdout",
     "output_type": "stream",
     "text": [
      "              precision    recall  f1-score   support\n",
      "\n",
      "           0       0.96      0.99      0.98     28856\n",
      "           1       0.90      0.61      0.73      3059\n",
      "\n",
      "    accuracy                           0.96     31915\n",
      "   macro avg       0.93      0.80      0.85     31915\n",
      "weighted avg       0.95      0.96      0.95     31915\n",
      "\n"
     ]
    }
   ],
   "source": [
    "print(classification_report(y_val, y_pred_xgb_val))"
   ]
  }
 ],
 "metadata": {
  "kaggle": {
   "accelerator": "nvidiaTeslaT4",
   "dataSources": [
    {
     "databundleVersionId": 13605326,
     "sourceId": 113366,
     "sourceType": "competition"
    }
   ],
   "dockerImageVersionId": 31089,
   "isGpuEnabled": true,
   "isInternetEnabled": true,
   "language": "python",
   "sourceType": "notebook"
  },
  "kernelspec": {
   "display_name": ".venv",
   "language": "python",
   "name": "python3"
  },
  "language_info": {
   "codemirror_mode": {
    "name": "ipython",
    "version": 3
   },
   "file_extension": ".py",
   "mimetype": "text/x-python",
   "name": "python",
   "nbconvert_exporter": "python",
   "pygments_lexer": "ipython3",
   "version": "3.12.8"
  },
  "papermill": {
   "default_parameters": {},
   "duration": 85.49595,
   "end_time": "2025-09-20T17:59:36.700213",
   "environment_variables": {},
   "exception": null,
   "input_path": "__notebook__.ipynb",
   "output_path": "__notebook__.ipynb",
   "parameters": {},
   "start_time": "2025-09-20T17:58:11.204263",
   "version": "2.6.0"
  }
 },
 "nbformat": 4,
 "nbformat_minor": 5
}

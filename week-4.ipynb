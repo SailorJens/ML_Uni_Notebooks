{
 "cells": [
  {
   "cell_type": "code",
   "execution_count": 1,
   "id": "da66f0d3",
   "metadata": {
    "_cell_guid": "b1076dfc-b9ad-4769-8c92-a6c4dae69d19",
    "_uuid": "8f2839f25d086af736a60e9eeb907d3b93b6e0e5",
    "execution": {
     "iopub.execute_input": "2025-09-20T17:58:17.265162Z",
     "iopub.status.busy": "2025-09-20T17:58:17.264911Z",
     "iopub.status.idle": "2025-09-20T17:58:19.260371Z",
     "shell.execute_reply": "2025-09-20T17:58:19.259495Z"
    },
    "papermill": {
     "duration": 1.999359,
     "end_time": "2025-09-20T17:58:19.261630",
     "exception": false,
     "start_time": "2025-09-20T17:58:17.262271",
     "status": "completed"
    },
    "tags": []
   },
   "outputs": [
    {
     "name": "stdout",
     "output_type": "stream",
     "text": [
      "/kaggle/input/comments-classification/Dataset/train.csv\n",
      "/kaggle/input/comments-classification/Dataset/test.csv\n"
     ]
    }
   ],
   "source": [
    "# This Python 3 environment comes with many helpful analytics libraries installed\n",
    "# It is defined by the kaggle/python Docker image: https://github.com/kaggle/docker-python\n",
    "# For example, here's several helpful packages to load\n",
    "\n",
    "import numpy as np # linear algebra\n",
    "import pandas as pd # data processing, CSV file I/O (e.g. pd.read_csv)\n",
    "\n",
    "# Input data files are available in the read-only \"../input/\" directory\n",
    "# For example, running this (by clicking run or pressing Shift+Enter) will list all files under the input directory\n",
    "\n",
    "import os\n",
    "for dirname, _, filenames in os.walk('/kaggle/input'):\n",
    "    for filename in filenames:\n",
    "        print(os.path.join(dirname, filename))\n",
    "\n",
    "# You can write up to 20GB to the current directory (/kaggle/working/) that gets preserved as output when you create a version using \"Save & Run All\" \n",
    "# You can also write temporary files to /kaggle/temp/, but they won't be saved outside of the current session"
   ]
  },
  {
   "cell_type": "code",
   "execution_count": 2,
   "id": "bb9a578a",
   "metadata": {
    "execution": {
     "iopub.execute_input": "2025-09-20T17:58:19.265496Z",
     "iopub.status.busy": "2025-09-20T17:58:19.265196Z",
     "iopub.status.idle": "2025-09-20T17:58:22.793878Z",
     "shell.execute_reply": "2025-09-20T17:58:22.793276Z"
    },
    "papermill": {
     "duration": 3.531964,
     "end_time": "2025-09-20T17:58:22.795240",
     "exception": false,
     "start_time": "2025-09-20T17:58:19.263276",
     "status": "completed"
    },
    "tags": []
   },
   "outputs": [],
   "source": [
    "import pandas as pd\n",
    "import re\n",
    "import nltk\n",
    "from nltk.corpus import stopwords\n",
    "from nltk.stem import WordNetLemmatizer\n",
    "from sklearn.feature_extraction.text import TfidfVectorizer\n",
    "from sklearn.model_selection import train_test_split\n",
    "from sklearn.linear_model import LogisticRegression\n",
    "from sklearn.metrics import classification_report, accuracy_score\n",
    "\n",
    "\n"
   ]
  },
  {
   "cell_type": "code",
   "execution_count": 3,
   "id": "e816deb6",
   "metadata": {
    "execution": {
     "iopub.execute_input": "2025-09-20T17:58:22.800033Z",
     "iopub.status.busy": "2025-09-20T17:58:22.799207Z",
     "iopub.status.idle": "2025-09-20T17:59:35.376595Z",
     "shell.execute_reply": "2025-09-20T17:59:35.375647Z"
    },
    "papermill": {
     "duration": 72.580853,
     "end_time": "2025-09-20T17:59:35.377886",
     "exception": false,
     "start_time": "2025-09-20T17:58:22.797033",
     "status": "completed"
    },
    "tags": []
   },
   "outputs": [
    {
     "name": "stderr",
     "output_type": "stream",
     "text": [
      "[nltk_data] Downloading package stopwords to /usr/share/nltk_data...\n",
      "[nltk_data]   Package stopwords is already up-to-date!\n",
      "[nltk_data] Downloading package wordnet to /usr/share/nltk_data...\n",
      "[nltk_data]   Package wordnet is already up-to-date!\n"
     ]
    },
    {
     "name": "stdout",
     "output_type": "stream",
     "text": [
      "Validation Accuracy: 0.9391508694971017\n",
      "              precision    recall  f1-score   support\n",
      "\n",
      "           0       0.98      0.95      0.97     28856\n",
      "           1       0.63      0.86      0.73      3059\n",
      "\n",
      "    accuracy                           0.94     31915\n",
      "   macro avg       0.81      0.90      0.85     31915\n",
      "weighted avg       0.95      0.94      0.94     31915\n",
      "\n",
      "   ID  psychotic_depression\n",
      "0   1                     1\n",
      "1   2                     0\n",
      "2   3                     0\n",
      "3   4                     0\n",
      "4   5                     0\n"
     ]
    }
   ],
   "source": [
    "\n",
    "\n",
    "# ---------------- Load data ----------------\n",
    "train_df = pd.read_csv(\"/kaggle/input/comments-classification/Dataset/train.csv\")\n",
    "test_df = pd.read_csv(\"/kaggle/input/comments-classification/Dataset/test.csv\")\n",
    "\n",
    "train_df = train_df.rename(columns={\"comment_text\": \"text\", \"psychotic_depression\": \"label\"})\n",
    "test_df = test_df.rename(columns={\"comment_text\": \"text\"})\n",
    "\n",
    "# ---------------- Preprocessing ----------------\n",
    "nltk.download(\"stopwords\")\n",
    "nltk.download(\"wordnet\")\n",
    "\n",
    "stop_words = set(stopwords.words(\"english\"))\n",
    "lemmatizer = WordNetLemmatizer()\n",
    "\n",
    "def clean_text(text):\n",
    "    text = str(text).lower()\n",
    "    text = re.sub(r\"[^a-z\\s]\", \"\", text)\n",
    "    tokens = text.split()\n",
    "    tokens = [lemmatizer.lemmatize(word) for word in tokens if word not in stop_words]\n",
    "    return \" \".join(tokens)\n",
    "\n",
    "train_df[\"cleaned_text\"] = train_df[\"text\"].apply(clean_text)\n",
    "test_df[\"cleaned_text\"] = test_df[\"text\"].apply(clean_text)\n",
    "\n",
    "# ---------------- TF-IDF with bigrams ----------------\n",
    "vectorizer = TfidfVectorizer(max_features=20000, ngram_range=(1,2))\n",
    "X = vectorizer.fit_transform(train_df[\"cleaned_text\"])\n",
    "y = train_df[\"label\"]\n",
    "\n",
    "X_test_final = vectorizer.transform(test_df[\"cleaned_text\"])\n",
    "\n",
    "# ---------------- Train/Validation split ----------------\n",
    "X_train, X_val, y_train, y_val = train_test_split(\n",
    "    X, y, test_size=0.2, random_state=42, stratify=y\n",
    ")\n",
    "\n",
    "# ---------------- Improved Logistic Regression ----------------\n",
    "model = LogisticRegression(max_iter=300, class_weight=\"balanced\")  \n",
    "model.fit(X_train, y_train)\n",
    "\n",
    "# ---------------- Validation ----------------\n",
    "y_val_pred = model.predict(X_val)\n",
    "print(\"Validation Accuracy:\", accuracy_score(y_val, y_val_pred))\n",
    "print(classification_report(y_val, y_val_pred))\n",
    "\n",
    "# ---------------- Predict on test.csv ----------------\n",
    "test_predictions = model.predict(X_test_final)\n",
    "\n",
    "# ---------------- Save submission ----------------\n",
    "submission = pd.DataFrame({\n",
    "    \"ID\": test_df[\"id\"],\n",
    "    \"psychotic_depression\": test_predictions\n",
    "})\n",
    "\n",
    "submission.to_csv(\"submission.csv\", index=False)\n",
    "print(submission.head())\n"
   ]
  }
 ],
 "metadata": {
  "kaggle": {
   "accelerator": "nvidiaTeslaT4",
   "dataSources": [
    {
     "databundleVersionId": 13605326,
     "sourceId": 113366,
     "sourceType": "competition"
    }
   ],
   "dockerImageVersionId": 31089,
   "isGpuEnabled": true,
   "isInternetEnabled": true,
   "language": "python",
   "sourceType": "notebook"
  },
  "kernelspec": {
   "display_name": "Python 3",
   "language": "python",
   "name": "python3"
  },
  "language_info": {
   "codemirror_mode": {
    "name": "ipython",
    "version": 3
   },
   "file_extension": ".py",
   "mimetype": "text/x-python",
   "name": "python",
   "nbconvert_exporter": "python",
   "pygments_lexer": "ipython3",
   "version": "3.11.13"
  },
  "papermill": {
   "default_parameters": {},
   "duration": 85.49595,
   "end_time": "2025-09-20T17:59:36.700213",
   "environment_variables": {},
   "exception": null,
   "input_path": "__notebook__.ipynb",
   "output_path": "__notebook__.ipynb",
   "parameters": {},
   "start_time": "2025-09-20T17:58:11.204263",
   "version": "2.6.0"
  }
 },
 "nbformat": 4,
 "nbformat_minor": 5
}

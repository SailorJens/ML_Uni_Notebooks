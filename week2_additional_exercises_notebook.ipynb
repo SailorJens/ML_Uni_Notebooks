{
  "cells": [
    {
      "cell_type": "markdown",
      "metadata": {
        "id": "kDy6qUUiVBL2"
      },
      "source": [
        "# Week 2: An End-to-End Machine Learning System Development - Additional exercises\n",
        "<font color='#AC135A'>**Applied Machine Learning** - **Sheffield Hallam University**</font>\n",
        "\n",
        "\n",
        "---\n",
        "\n",
        "## Fruit Recognition - Introduction\n",
        "\n",
        "As a complement to this week's lesson, you will now perform a classification task on your own, applying what was learnt in the lectures and in the Iris classification exercise. The dataset this time consists of fruits, as well as some properties that will allow your classifier to distinguish between different fruits (4 classes).\n",
        "\n",
        "---\n",
        "\n",
        "## <font color=\"#672146\">1. Prepare your dataset</font>\n",
        "\n",
        "Before, we loaded the dataset using the existing datasets within scikit-learn. This time you have a separate file called `fruit_data_with_colors.xlsx`. You will find this file in the module site. After dowloading it, drag-and-drop it in your *working directory*:\n",
        "\n",
        "![image.png](data:image/png;base64,iVBORw0KGgoAAAANSUhEUgAAAbUAAAIoCAIAAABh2OKKAAAgAElEQVR4Ae29a1AU1773n5enzr/q+T8vnhfn/2qYIlVykvLkYVeORk9psq1hZpCbEEDlonhLVExUQoIxiUhMNpGQ4D0GojGRQZJoEBWyBRS8YoiJxJ2gYgKbbURhALmDaZj116xk7d49M4ue+zDrO0VpT6/V3ev3+XV/WN1rzfAIwQsEQAAEQMAWgUea8QIBEAABELBF4BFb0sQ6EAABEAABAj/iJAABEAAB2wTgR9tcsBYEQAAE4EecAyAAAiBgmwD8aJsL1oIACIAA/IhzAARAAARsE4AfbXPBWhAAARCAHyf3OdDc3Dy5A0DrPUyAzurz8EECdvfw4+ROLfw4ufPn+dbDj64whh9doef7beFH3+fAv1sAP7qSH/jRFXq+3xZ+9H0O/LsF8KMr+YEfXaHn+23hR9/nwL9bAD+6kh/40RV6vt8WfvR9Dvy7BfCjK/mBH12h5/tt4Uff58C/WwA/upIfJ/14t6PjzNmzlV9Vnjt/vrev15UWBOq25i5zcmrK27m5Hg0wgP1YXGKKiYu9dv26RwEG/M7hR3mKr12/HhMXW1xiIoQMDQ+vy8hYl5ExNDwsryNfdtiPfX192Tmbw4wGnUFPf/Thxt0ffDB6f1S+3wmXBwcHP/hwb+KC+TqDPjwy4oW1a69cuWKxWCbccLJUENCPFovlypUrL6xdGx4ZoTPoExfM/+DDvYODg86lbFL4sbjExC4E64Vz5887F7sbt/IfP9IrQk5p3rNxBdu33bt3z43x8nflWT8ODAxkZGaGGQ0bX3+tubnZ3GW+0ti4ak26zqDPy8+XJInfOFZ6586dZSuWR8ZE5+Xn15yq+bLsy2UrlodHRtTW1bE6k31h8vpxZGQkZ8ubOVveHBkZUZ8Fi8VyqLRUH25ctmL5l2Vf1pyqycvPj4yJzsjMHBgYUL8fVtP7fnQi8NbW1tN1tfRny9tvRURHFZeY2JpOs5mF49DC27m5yakp5i4nN5cfy71+HBkZqfzrV879zqNXxNr16ygfdoYsWba0s7NT3mbPLXvWj2VHjxrmhh8sLh4fH2cxjN4f3fpuXnhkxNcNDWwlZ0GSpK3v5sXExX5/9XtWbWBgYO36dQtTkm+3t7OVk3ph8vpRzX2HdWromfeXd3LldxI1p04ZI+bu27/fuv6Ea7zvR+cCZ4G4scF+60eKKDb+2fMXzjt6t2fziqBnyOEjRxhGjy540I8jIyMZmZlLli3t7u5WxPDzzz/HJcRvfTdPsd7m29bW1mcTEwq2b1PwPVl1MsxouFh/kW7V1taWtfHV8MiIMKPhQWfz8uXLtD6lnLPlzUOlpXEJ8TqDfmFy0vkL5wcGBnbs3BkZE03rN11rovuhZ+3JqpNr16/ThxvDIyO2vP1Wb2/v5cuXl61YHmY0RMZE7y38kF3Vg4ODdD86gz4uIf5QaSntF7OL5/yF83TD6Nh5rJQQYrFYak6dSvjticHC5KTSzz5bmJLMnj92dHRsfjOHhpO2dGltXZ0ifJusJlzpieePLFLOcxnrhm3bsT0uIf7nn3+WF/X3969KX52RmUm7osPDw3s//JBmLS4hvuRQCcNOCOnq6srO2UxztPnNnG07tsufP47eHy05VMIyXlVdLf8lLT+o08vOBc4OZ9OP4+PjVdXVD05RejqxkP968qRhbnjZ0aN08+6enmUrli9bsbxo3z75HSg7f9hRHF1wb/+RItIZ9GFGw+ub3ujo6FDfHpt+7OzsZJeJNUD2e4Klxt7VJ2+GxWJhV7c+3Lh2/bq2tjZawYN+pOFtefst6wubtV7NFXXu/HmdQV935ow8JMXyjRs34hLiF6UtLj9WfrLq5PrMl9jdN22GzqBfn/nSyaqTXxw+nLhwQdS8mIUpyRtff63mVE3pZ5/Fxj+7aEna3d+SR58QxcTF7j/wcc2pmjff2hJmNCSnpiQumF/62Wc1p2o2vv5amNFAH9nSBwix8c+WfvbZ6bra3K1bWRGN0TA3PC4hvvSzz05WnVy1Jt0YMZcF8teTD/2+ak06a5XOoKfnNz37k1JTyo+V15yqod53y8MEP/EjhfPiurVDQ0OKVLK3Q8PDma+8HBkT/WFR4em62m3bt4dHRrDHMr19vavWpNNSlibmR0mS8vLzaRJpXgxzww+VlrKdu2XBodPY+ojWl7fFYjGVlERER23bvv10Xe3ewg/DIyPee/99SZJG74+++trG+UkLb/1yixBSXGIKj4w4e+7c0PCwucu8aXP2wuSk5uZm5x5NyNvmCT8+t/L5v7yTqw83RsZEH684ofIXlet+5Fx98pBr6+oioqOoDcqPlSelpjAb+MiPQ0MvrlvLugnytlovl372mc6g5zy6liTpzbe2sFOHEEK1RbuulLJ81Onyt99GREe9nJXFOiPyrmhxiUluMUmSXnvjdWPE3PpLl2jb5H2cy99+m7wotb6+nhaN3h99OSvrQQ+ov7+fXjxxCfE/Nv3eM719+3biwgW013zv3r2lK5avWpPORvNpn5r68WL9xTCjgZm0t7f3uVUrsza+yhpsTUnlGj/xY3d3d2raYnlSrNtfXVNjmBv+15MnaRF1R3hkBE3E0fLyMKNBXlqwfRvzY3VNTXhkRM2pU3RbeoYsXbHc+iiurHG7H//2w9+i5sUcLC5mXYp9+/c/m5jQ2tpKCKGdgB07d/7888/x8xNzt77DnuCzfpMr4dBtPeHHdRkZg4ODly9fXpS2WGfQr1qT3tLaMmFTbfqR9iqOlpfTXxIs43RvjAP/6pMfenR09EEfbtPmbNZXq790yRgx92TVwxPPg34cvT+atfFVm48I6VG37dgub6i9Zdqh4/iRdrkVe2PKs6Ysj5ketOlaU3TsPHoI69/qDDqtbLFYHtxx27u2WWXri0feEnpE2gmlu5WXfvvdd+GRETt27nRdiAqqbvEjHZdISk2hPwtTkh88TQ6PjFiYksxW8odraLD2GNKHD1vefmvpiuXywUr2C4amIHlRqnxAgyWOlsYlxJcfP8aGPvLffy8mLlZBw9G3rgcuPyJrMFv5ycFPFSM2+/bvN8wNp2emxWI5WFwcExf73Mrn5b0BQgg769iunF7wkB+pfUbvj+4/8DHtSJpK/uVpiXWD6UnCxmfYPQQbwbMGyDjwrz7rY8nXyP0gX7bep3wruuzY/J7qmpowo2Hru3ny67yvr2995ktxCfE3btywPoD1mgn7j/IY2OZspdw7tJQVKSqr9CM9Hdm13dHRkZf/7rxn49hjIDqSaE1T3hL60EAufXmpJEkffLiXPllb/cKaz7/4gnUzWZudW/ATP07Yf7SmJ5+A1tXdbT0TjV0tdFuWDrbg/358OzeXtVa+wM4T+lQhzGhgDyLpacC84NxZId/Ka348aCoetj+RkBBCrwg5B51Bv33nDrYVyzhrP+Ngff7Iry9Wny6Mj4+fOn162Yrl+nAjOxztu8hdYb1PxX4IcfDvF9LHQDqDflHa4i8OHz5dV/vF4cPJqSn02TO78bQ+jHzNhM8f5TGwDdlKay6sSFHZCT/evn07KTXluZXPX2lsNHeZ6ZMg1/1IG9bd3X38xAn6LDUmLvb8hQuswU4vuMWPiqOrOW9sbsJ5/mhzn2ylGj+yX2CKQ7vxLWsPuzVzaOecy9vefjo7O5csW6oz6OX34JOi/+j6/fXdjo5FS9JefW0j62xxAFqnxtoDFLLFYtm3f39EdNS+jz++c+eOuct86euvo2PnecOPhBBJkkoOlUTGRDMxL0pbXFJ6KC4hXv5szt4JQQiZcPza5v113ZkzdHTbmosb/Vj62WfRsfPY2Lf8TOVniN5f08coNHZ5OwcGBrp7ethj7Pb29tS0xSof13JIEkL8xI+EEP749fDwsPX9NU301nfz6B204u6bXS2SJL2Rna0o5WNxrtQ6xQ7thzWYbfVhUSF72shWsgWLxbJj5864hPjMV15W3H6xfhOr7PSCJ/qP7hqfKTt6NDwygj2XtwbIOFinRn59yeHQWxn5MLLcD/Jl633K90OXHbu/ZttLkvSPW7cu1l/s6Oigl/2PTU0qFcnmP/7w449sh3T+Ix2BoU/fU9MWt/8xF5IO9snHZ+TzHuQx0x3SNU70H4tLTBHRUY3f/z4xs6+v78V1a9X0HwcGBtJfWLN2/To24Cgfn9m2Y3vCgvn/uPVwpJL+jnkjO9stHSL/8SNlLh9kIITIZ7cpxlgIIfTyoOMzilKLxSIfnzl+4oR8bIcQ0tnZKZ8/S8G6+K+aC4ZzCOvLmz53LvroIzY+MzAwcOnrr+klc6WxMWpeTNFHH93t6FiybKm8J8W8wDmcyiJP+NFd83vovA42qkn7QGfPnaOh0aFUNVefHAX15hvZ2XSwy2KxVFVXGyPmeqn/KG+KYlm9ItnnZ7bteDjvwfrzM83NzfHzE+n8HsWEGOvfG270Ix1STE5N+eLwYfboQGWGauvqwiMj2PyehclJhrnh1OPy6Uqn62rz8t81Rsx1y/QU//Ej+/zMcyufP37iBPt0BHv6PjQ8nPXqBja/h052YfN76BQF+fye8MgINppJS8MjI+hEGTqpK/OVlxVnoItv3e5H+jwqzGh4860tNadqjp84sWzFcvpxEdYhoB8dodMh2fD9h0WF4ZERBz79hM2ycDo0T/jRjfPD6fg1ldft9nY6JMhm9ekMepVXH+MjSdJ777+vDze+/Ze/nKw6+fZf/kKfQvrej4QQ9Yqkn7+m033DIyOyNr567do1FiQhpL29fePrr9mbH+6h/iMh5Lsr39FHQnRyOH2W0fj999YXj8LUdH44nQm8MDnp2PHja9evY+1saW2h0x7phPbDR46wyRzyqB1d9oQfnfiYHW02/fz1mhdfoGfkwuSkkkMl7Ok7IWT0/ui+jz/mzA+nU+jDIyM2v5lztLyc+ZEQophbvvfDD+V7dpSbzfpOB073Zt1/pPcKh48coWfFbx+offfBNHhCyKHSUnmPmE4OZaPYnZ2da9evCzMaXtmQZbOp6le614+uf76QXRE0BHpZscC/u/Id+9TGjl27ij76yFE/0lNlx86d4ZERdHL4N5e/WZiSTHuU8r6U9RVtTdXJ+2vrHbE1VJGvbMhy6NO7bHMsOETAE350qAGo7OcE3OtHPw/W7c1zvx8JIXfv3mWP4dzeYuxQTgB+lNPAsjUB+NGaifo1HvGj+sOjposE4EcXAQb85vCjKymGH12h5/tt4Uff58C/WwA/upIf+NEVer7fFn70fQ78uwXwoyv5gR9doef7beFH3+fAv1sAP7qSH/jRFXq+3xZ+9H0O/LsF8KMr+YEfXaHn+23hR9/nwL9bAD+6kh/40RV6vt8WfvR9Dvy7BfCjK/mBH12hh21BAAQCmQD8GMjZRWwgAAKuEIAfXaGHbUEABAKZAPwYyNlFbCAAAq4QgB9doYdtQQAEApkA/BjI2UVsIAACrhCAH12hh21BAAQCmcAjdHoU/gUBEAABEFAQQP8xkH/7ITYQAAFGoLm5+e9//3ubIy/4kdHDAgiAQCATaG5uvn37drsjL/gxkE8IxAYCIMAINDc3d3Z2ms3mLtUv+JHRwwIIgEAgE2hubr53715vb29fX1+/uhf8GMgnBGIDARBgBJqbmwcGBoaGhoaHh0fUveBHRg8LIAACgUygubl5ZGTk/v37v/7xkiZ6wY+BfEIgNhAAAUagubn5/v37kiSNjY2Nq3vBj4weFkAABAKZQHNz86+//krlaFH3gh8D+YRAbCAAAowA8yN1I1vPWYAfOXBQBAIgEDgEqB/Hx8ctFovKqOBHlaBQDQRAYHITcOKPkcCPkzvlaD0IgIBKAvCjSlCoBgIgIBwB+FG4lCNgEAABlQTgR5WgUA0EQEA4AvCjcClHwCAAAioJwI8qQaEaCICAcATgR+FSjoBBAARUEoAfVYJCNRAAAeEIwI/CpRwBgwAIqCQAP6oEhWogAAIPCTRda1qybKnOoHf6Rx9ufPOtLX19ff4PFH70/xyhhSDgLwS6e3qWrVjutBnlG+7YuVP9h5r58d+5c+fwkSOSJPGrEULU16S7gh8nRIoKIAACvxO4dv16TFyszqDPfOXlvPx8zs/zq1fJbWi9vC4jY2h42HWynZ2dq9JXhxkNu/fs4StSfU3WKviRocACCIDABASYH8+dP8+vWlxisnaifI27/Nje3r4qfbXOoOcrksqRVtu5e9fo/VF++2kp/KiGEuqAAAg8JOCHfiSEyN1nsxc5YQV72XWzHy0Wy1d//Wt07LzwyIgDn37C7+7aaxPWgwAI+CcB//QjX5FOy5EQ4mY//u2Hv0XNi6G96DCjobqmhhDS3dPz4rq1Sakpan6WP7fip59+8s+TA60CAcEJ+K0f7SnSFTm634/VNTXyRwwf7d9HCDF3mZNTU+TrOcsxcbHXrl8X/CxE+CDgnwTU+/Fi/UV7ozcpixfpDHp3PX+Ug1LY8Pbt22oeTcr3oFgO2P6jJEn19fUVtl719fWSJA0MDOzatauysnJsbIxVvnPnjgIQ3oIACDAC6v3INrFeeDs310N+VPQiI6KiJhy3sW6efI2b/eg/zx8HBwcTExM1tl6JiYmDg4PZ2dkajSY4OLihoYFVrq6ultPBMgiAgJyA//tRrkgX5ej++2s5St8uM+X913/911P/+kpPTx8aGiouLtZoNKGhoTdu3GCV4UffZg1H93MC8OOECZocf39mQuVZLJaenp4HHUlCyISVJ4SCCiAgAgH/96P8EaTf3V8TQoaHhy/WXzxde7q3r9eHZ8yEyhsdHe3o6Ojp6bFYLPYq9/f319bW5uXllZaWtrS0KD4ONTY2dvPmzU8//fT9998/e/bs0NCQD+PFoUHACwT83I9yOe7es8fvxmcGBgYyMjPp8PTipUvocMf4+Hh3T4+5y6zmp7u72y2zJu0pj51D1dXVGo2GPou0rmyxWA4fPhwcHCx/gJment7f30/30N/fv2jRInnp448/Xltby/aPBRAIPAL+7EeFHKlGbK5Unxc3j8+cO39ePnenuMTkq/k91spTQOH7sbKyUqvVBgcHZ2dnV1RU7N+/f8aMGRqNZsOGDZR7QUGBRqOZPXv24cOHz5w5k5mZqdFo/ud//qetrU1xILwFgYAh4Ld+5HiQUzRhXtzsx7ozZ+R+/OTgpz73o7yLp9FoQkJCrl69Sgjh+NFsNs+ZM0er1VZWVjKCt27dmjVr1qOPPvrtt98SQjIyMjQazRdffEErSJL09ddf4xab4cJCQBLwTz9OaMAJK9hLlpv96If310748dy5c0FBQdHR0S0tLR2y10svvaTRaIqKigghtP/4+OOPl5aW9vT02OOL9SAQSAT80I8q3aeymiJZbvbjJBqf4fQfi4qKFFaVv92zZ8+D/mN/f/+qVavY+qlTp+bm5g4MDCj44i0IBBIB5scJv9/M3odn8vLz3fv5Gfr9Pfwv76EpoIoMMxrw/T3EbDbPmjXrwTNBe1MaJ/RjQkJCha3XzZs3KW6LxdLS0pKXlxcWFkZFOWfOnPb29kC6HhALCMgJ4Ptx5TRsLk+O+Y8dHR10RMUJP9L76zlz5pjNZjmCX3/9VT7FZ2hoiL1tbW195plnNBpNWVmZfBMsg0CAEcDfV+AnlOdH//l8oSt+7O/vj4mJ0Wg0OTk5bLIRNWBkZGRLS0tXV9eKFStCQkJOnTpFYUmStGLFCo1GYzI9HLLHCwRAIAAIuPn5o/98v5krfiSENDQ0hISE0A8gZmRkLF++XKvVajSaxYsXDw4OSpK0YcMGek+dmJi4YcOG8PBw9mnFADgtEAIIgID7P3/tP99v5qIfCSGNjY1z5syhEqT/Zmdnsxk8DxboN1ywCrNnz7506RLOKhAAgYAhELD9R7dkiH5Gu6GhoaWlZXTUxh+sGB0dbWlpaWhooJ9TdMtBsRMQAAE/IeBmP/rP80c/4YtmgAAITF4Cbvbj5AWBloMACICAggD8qACCtyAAAiDwOwH4EacCCIAACNgmAD/a5oK1IAACIAA/4hwAARAAAdsE4EfbXLAWBEAABOBHnAMgAAIgYJsA/GibC9aCAAiAAPyIcwAEQAAEbBOAH21zwVoQAAEQgB9xDoAACICAbQLwo20uWAsCIAAC8CPOARAAARCwTQB+tM0Fa0EABEAAfsQ5AAIgAAK2CcCPtrlgLQiAAAjAjzgHQAAEQMA2AfjRNhesBQEQAAH4EecACIAACNgmAD/a5oK1IAACIAA/4hwAARAAAdsE4EfbXLAWBEAABODHh+fA4ODg6drT23Zsz8vPt/mzc/euzs5OnC4gAAJCEYAfyZ07dxYvXaIz6Pk/i5cuuXPnjlAnR2AHa+4y9/T0BHaMiM5FAvAjOVpezjcjK4UiXTzb/Gdz+ksRCfWfjPhnS+BHUlxi0hn0yakp5i6zzSSdO3/e3xRpsVhaWlu279yxKG2xPtyoM+j14cZFaYsLi4rudnTQKMxd5uTUFJ1BX1xishmXJ1aaSkoWJCUxXPKF5NSUTrNtwp5oCWef4+Pjnx48GGY06Ax6hSJ7+3qPnziRkZn5bEICa/yzCQkZmZmHSksZW87OURRIBOBHx/xofUV5/2zo6Oh4fdMb9PJm1zBb0Icb33xrS19fn/f9+HVDA2uGzYXkRan2fgl5GaPFYjGVlCgUOT4+frC42B5YnUEfZjSsefGFH3780WKxeLnBOJxPCMCPDvvRt4q8du1a/PxEah99uHFV+mo2oLQqfTXtS+oM+qTUlPMXLni5/2gqKbGpRfnK5EWpnxz8lPNT+VVlf3+/Fy4GuQ1ZL5J6M35+4sbXX2dgN7+Zk7hgPosizGjIztnc19fnhUbiEL4lAD8640dfKfLHpqa4hHjakXmvoKC3r1dx9pi7zHn5+bQHFBMXGx4Z4c37608Ofsok4spCwoL53hk5kSRp74cf0qYyRVKkFoult7fX3GXu7e2lvcXu7u7dH3wQGRNN6y9ZtrS1tVXBH28DjAD86KQfva/I3r7eVWvSdQZ9eGRERWWlvVs8i8VSUVlJzUivZK89f1Tvx8SFCzIyM+nPkuXLrGVafvyYF6605ubmBx1tdnSmyPHx8dLPP2M32gkL5ldVV4+PjxNCHnQbs3M206L4+YnXrl3zQjtxCF8RgB+d96M3u2aE/N7OMKPBVFJiT470NJI/XPNmI9X7sfKvX7EzvrevN3peDJMUXfjk4KesgocW2Lyu8MiIVemrqfKYIhUMw4yG3Xv2SJJECBkfH//8iy/obyBW30ONxG59SwB+nNiPo/dHzV1m+U9zc/PC5IejtF7rmvX3969KX60z6NdlZAwND1ufNA3ffJOUmsJ+EhbMZ90frzVSpR/XZWRsfP01ueI//+ILL/vxgemyczbTJxWmkpKxsTE2MqNQXm9f73sFBWFGgzFibt2ZM5S83J7ZOZupN62TgjWTnYBH/Dg+Pt74/fcf7d/HnnDbXCj9/DN/OLEmnN9jnWPvDw03fv99RHSUzqA/WXXSuj2EEPkkJIVrvObHTw8eVBza+m2Y0dDW1lZdU/PXk/8MRJKk5EWp8sqe7j/WnTljjJirM+jz8vNZr9CeIiVJyt36juKXkyRJefn5OoNe7k2bqcHKyUvA/X5k5438dLe5rOZW0Qtk+X4cvT9q3Qbv+/Fk1UmdQT/v2Th7CVP0H1lHMik1pezoUesQPLFGTf9x+84d9NCvb3pjdPSfbGvr6uQniUf9ODAwkP7CGp1Bv2zF8m7ZR2g6OzsXpiTTZih6kfT3U+LCBbdv32boOjs7lyxbqjPo019YMzAwwNZjIWAI2LvcOAE+wikjhLS2tj6b+M+5tfKT3no5PDKitq6Ov0NPl3L82PDNN4uXLmn45htFG7zvR04jFW3z4dsJ/Tjv2TjmkZ9//lkhQfoAgZ4kiiL3BvVjU1N07DydQb9rz275bf6169dj4mLZWSpXJC2KiYu9dv06a4zFYtm1Z7fOoI+OnfdjUxNbj4WAIeB+P7KT7Nz58xxMbKpKXEK8b88te+pp+OYbOpkmLiFeoUj40WZmJ/Tj0fJy+YYbX3+9u7ubrWm61sTc5FE/soePcQnxN27cYA2Q9x9pS5gi6QPHRUvS5A3+uaWFzkV99bWNNu8z2J6xMEkJ+MyPhJDaujp/GAS06UcmR3qdKBTpfT9OeH/tD+cf349LVyynU2RoU//e1hZmNLz7Xr685W++9RYF7lE/EkKuNDZG/TZonpGZybq0kiS9+dYW5mhrRV6/cYM9MR8YGMjIzNQZ9FHzYq40NsqjwHLAEPClH+WDgPLT1Mtwrf2okKO1Ir3vxwnHZ6yhnT13Li8/f8euXV771DDfj3/74W/yRlK5hBkNrX//O1t/9+5dOmziaT9aLJaijz6imWVDNIQQdlsjtyTrRbJ2jt4f3fpuHq1T9NFH8pt0VgcLAUDAl34khMgHc+SnqTfJKvx49epVelsdExeb8NunyhIWzKePpeIS4q9evUoI8b4fJ5zfoyDGJpN7c+iA48ecLW/KW1hfX7/8uRVsirh84fnVq3QGvaf9SAhhHUCdQf969ib2ecG6M2fYh2SYJeWKHBgY2LQ5mxb58Pe6nCeWPUTAx36Un6a+Gs5W+HF4ePitv7z9QIjnL1x4OzdXZ9A/+Pf8hQsxcbGbNmfTezHv+9G5+eFhRoPXBq8JIRw/Hj9xgp3BkiSty8gYGRlha+QLQ8PDYUaDF/xIPwyzPvMlarpFaYsvX75Me4J/b2vL3foOtWREVJT11PFDpaX6cOP6zJeYVeUhYDlgCPjej4T88xtq7U1+9ihuhR+psn/66SdCCPMjIeSnn35iD6p84kfWJVT/+cK169exNnuUId05x48LU5LZw8cjX34pn/yoaBjdiXf8SAgZHh7O3foOm0v/3MrnT9eelkOTPwVivUiLxdL4/ffDtibqK8LB20lNwHt+/Htb287du1Y8/3xGZubnX3wxOJ/8mtEAACAASURBVDgoB0dN5Cd+ZA2T+5Gt9Mn9NT06ezoWZjRM+P0U3v90MMePOoP+REUFIaS/vz/zlZflMOXL7e3tdMjOa36knxesqq6OjX+W3U3TqaZ0DunClGT5h9mZIuXNxnKgEvCGHy0Wy+EjR+QnGf0CLvmx4UeVZ5j67zeT41W5cxerlRzifb/Z/KSFjd9//+57+cUlpsbvv7f588qGLCqpkkMlLjbG0c0HBwdNJSX0ibNclNbLUKSjbCdvfScuognmh1vPf2TzePThxvlJC9k3M8vPM//0487du5JSU3bu3qVIsE/ur1kbVH4/LqvvtYWL9RetbeLcmov1F73WbPmBxsfHf/nll6Pl5e/kbV3x/PNJqSkrnn/+nbytR8vL//GPf3y0f5/iWaR8WywHHgGP+5F9lis1bTH9vjz5F3Dt27+fMvVPP9rLt2/9SAhR8/cV7DXec+stFst7BQX2/r6CSlEuSEp6r6DAP2fM2PxKXc/xxJ59TsDjfmQfNzx85AiLdvT+6MtZD++ksja+Sj944EM/qv/7XNZXuOIDISxALAQqASgyUDNrMy6P+9H6dpu2QyFExVubbfXQSvY9gNb646+RPx/wUNuwWz8kIFfk2vXrhoaG/LCRaJJbCHjcj51mM/3qqtyt77DPZrW3t6emLdYZ9Llb36F3Uj70IyFkcHDwdO3pbTu22/weNuuV23ZsP117WjEE75Z8YCeTggCd9LNk2VL8SfRJkS+nG+lxP1oslh07d9IvIs3duvXnn3+uv3TpuZXP6wx6w9zwCxd/fwzvWz86jQ8bCkvAYrGwGZ3CQgj4wD3uRzr9e9mK5TbvVdf/8QkE+DHgTzUECAKTjoA3/EgI6erqys7ZzP76aHTsPPrFojqDnioSfpx0pw4aDAIBT8BLfqQch4aHzV3m7u5uSZLox5xppzIjM3PDxo2K768PePQIEARAwM8JeNWPChbyL4miovTJ5wsVrcJbEAABEKAEfOlHQohCkfAjzksQAAH/IeBjPyoUCT/6z5mBloAACLjfj+wDM/SWmfMv+zpF1otkH6dBYkAABEDA5wTc70f5V4Jz5EiLmCIlSdq2fbvP/5ahz/OBBoAACPgPAff7kX6hXuP333+0f5/1J0+s19ScqhkbG/MfImgJCIAACFACHvEj4IIACIBAABCAHwMgiQgBBEDAIwQC1o/NeIEACIhNwHVlBqwfXUeDPYAACAhOAH4U/ARA+CAAAnYJwI920aAABEBAcALwo+AnAMIHARCwSwB+tIsGBSAAAoITgB8FPwEQPgiAgF0C8KNdNCgAARAQnAD8KPgJgPBBAATsEoAf7aJBAQiAgOAE4EfBTwCEDwIgYJcA/GgXjaKgvb197fp1YUaD9Ze2hRkNppIS+oe8FVvhLQiAwOQlAD+qyt3o/dFXX3v4F8Ts/UCRqjiiEghMKgLwo6p0mbvMyakp9uRI14cZDa9syLL+gku2xlRS0tzcjG6mKuKoBAJ+QAB+VJUENX7k25M5FHfiqoijEgj4AQH4UVUS3OVHnUG/dMXye/fuqToqKoEACPiUAPyoCj/zY3GJSdUGqAQCIDD5CcCPqnIIP6rChEogEFgE4EdV+bT249lz59jAixMLJYdKRu+Pqjo2KoEACPiIAPyoCrzCj6P3R1/OylIzIGOvzodFhaoOjEogAAK+IwA/qmKv8GNra+uziQn23DfhemPE3IZvvlF1YFQCARDwHQH4URV7hR9PVp2cUIKcCkuWLe3u7lZ1YFQCARDwHQH4URV7uR8lSXrzrS0c/U1YlLv1HcwSV8UdlUDApwTgR1X45X7sNJuTF6VOKEFOhZNVJ1UdFZVAAAR8SgB+VIVf7sf6S5eMEXM5+uMXJS5ccPv2bVVHRSUQAAGfEoAfVeGX+3Hbju18A/JLsza+ipk9qqCjEgj4mgD8qCoDzI979n6wKn0134D80sNHjtg7ZEtLy/Tp07ds2UKfTubm5k6bNu3mzZv26mM9CICARwnAj6rwMj++nJUVNS+Gb0BOaUxc7LXr1+0dsqWlZdq0aTk5OcyPf/rTn27cuGGvPtaDAAh4lAD8qAov86MrTx51Bv2q9NX9/f2qDolKIAACviYAP6rKwITfj8vpM8qL9u3fr+p4qAQCIOAHBOBHtUng/H0FuQHtLevDjVvefmtgYEDt8VAPBEDA1wTgR19nAMcHARDwVwIe9+Pdu3c5nSZ+qb9CQ7tAAASEIOBZP/7Y1BSXEJ+RmWlTkfxSIfAjSBAAAT8m4EE/Uv3pDPrwyIjqmhoFhPv37+du3Uqf1tkTqGITvAUBEAABbxLwlB/lcqyorLT5dQySJOXl50OR3sw3jgUCIKCegEf8qEaOtIlQpPpUoSYIgICXCbjfj+rlSEOFIr2cchwOBEBAJQE3+9FROdJWQpEqs4VqIAAC3iTgTj86J0caLRTpzazjWCAAAmoIuNOPV//2t7iEeDpgXVtXp+bwrM7w8PBbf3mbjtWsz3ypr6+PFWEBBEAABHxCwJ1+JITIu5DqFSmXI+b6+OQ8wEFBAASsCbjZj04oEnK0zgrWgAAI+AMB9/vRIUVCjv5wEqANIAACNgl4xI8qFQk52kwJVoIACPgJAU/5UaFIfL7QT/KNZoAACKgn4EE/MkXaG3Khgzn2StXHgJogAAIg4AkCnvUjIYT/DWb8Uk8EjH2CAAiAgEoCHvejynagGgiAAAj4GwH40d8ygvaAAAj4CwH40V8ygXaAAAj4GwH4UW1GOH+fK8xoMJWU2PyOS7V7Rz0QAAH/IwA/qsrJhH/fFYpUxRGVQGBSEYAfVaXL3GVOTk2hX59h798wo+GVDVl5+fn2fkwlJc3NzehmqiKOSiDgBwQC3I+SJLkFsho/2vOmfL3/dzOrq6s1Gk11dbVbuBFCOjo6ZsyYkZGR4a4dYj8g4DUCAe7HL4+Wnb9wwXWa7vKjzqBfumL5vXv3XG+Sh/YAP3oILHY7GQkEuB+LS0wxcbGuK9KNfkxOTTF3mf32XPGhH69evRoSErJnzx6/hYOGiUYg8P2oM+hdVyT86PSFof7+Gn50GjI29BABIfzouiK95sf29vb09HStVqvRaP785z9Xyv407sDAQE5OTnBwsEajmTp1amFhIX26Ojg4mJiYmJCQcOjQoWnTptHSAwcODA0N7d27d+rUqRqNZtq0aTU1NXRoqLq6Oigo6MiRI+xAq1evbm9vp2eYov84NjZWXl7Odrt3796RkRH+uWixWI4fPx4aGkqPW1RUNH36dPb80WYU1KGaP14hISFXr14lhMiPrtVq09PTOzs7+UdHKQi4kYAofnRRkd7xY1dXV1hY2FNPPWUymY4dO5aWlqbVaisrKwkh/f39SUlJjz/+eFFRUUVFRWZmpkajobei1I8ajSYsLKz0t1dYWFhQUNDMmTOjo6PLyspMJtPs2bOZdKgBNRpNVlZWRUXFpk2btFptWFhYV1cXIUTuR4vF8sEHHwQHB2/atKmiouKdd97RarUbN27kj3p9+eWXGo2GHnr//v1PPvmkRqOhfrQXxdjYWFdX15kzZ6ZMmZKfn282myVJokcPCgqi7SwsLAwJCUlMTBwcHHTjBYBdgQCHgEB+dEWR3vFjbW2tRqP56quvaMJ6enrmzp2blpY2Ojp68eLFmTNn1v3xV31GRkZSU1OjoqJ6e3upH59++mnWB2xpaQkNDZ0zZ47Z/PuDzoaGhuDg4KKiImbA3bt3s5lGxcXFGo2mrKyMldLx62+//fbRRx+V1ywoKHjiiSdu3rxp75Tq7u7W6XTR0dE9PT20zvXr16dOnUr9yImCEKK4v+7u7k5MTNy8eTNr54EDB4KDgxsaGuwdHetBwL0EhPPj2XPn2PWmHqV3/FhfX6/VanNycia8h33Qo8zIyJgxY0ZHRwf1o7xjZf3Ir729ffr06bS/Ke8hUgK09JVXXlH4cdeuXcHBwXv27Kn441VQUBAUFMSZ/dPY2DhlyhT5GIt1Y+TYWRTWfpRXo8vWLbeugzUg4EYCAvnRlVEa7/hRkqTc3FyNRqPVaqOjo/ft28d6YYSQ9vb2rKys//zP//zjMZ1GvR+ppOz5kRqWdlTlDsrIyGDHki9w/CjfnJ6mCj/ai8KmH0dGRj7++OOZM2eqPLobLwzsCgQIIaL40RU5EkK840d6RprN5tLS0gULFmi12pCQkFOnThFC2trannrqqfDw8K+//rrjt9eqVau84Ed6CPWXCt+PnCis/ShJ0gsvvBASElJSUtLe3t7R0XH48GH3zl1XHxdqiklACD+6KEev+bGvr6+rq2tsbIyei7du3Zo1a1ZSUtLQ0FBRUdGUKVMaGxvZacruTNXcX/P7j/bur/Py8vhPG1lj2AK9vzaZTGyNvP/IicLaj01NTY899tiuXbvYrqzly4qwAAKeIBD4fnRdjl7zY3Z2dmhoaEtLC820JEkrV66kDxb37NkjH5q4d+9efHy8K/1H+ajLl19+GRQUdOzYMcXzR/o8ND8/nz2x7e/vP3PmDDO49RnZ398fExOTkJDQ399PS+XjM5worP1Ih2vy8vLofsbGxnbs2IH+ozVzrPEcgQD3ox9+vpDz+Zkffvhh6tSps2fPNplMFRUVWVlZQUFBhYWFhBBaNGPGjP2/vWbMmKHRuPT8UavV0lk7eXl5wcHBSUlJ1GjyPpokSRs2bNBoNGvWrDl27FhpaWlYWNicOXPYQLnN87KyspI+Py0rK9u/f/+0adOCgoLo+DUnCvoM4cknn4yNjS0rK2traxscHExJSQkODs7Ozi4rK0tJSaFPITlPP222BytBwGkCAe5H/kw99dS89vyxubmZTnukk6sPHDjAQrh06dKcOXPY5PCCggLao3Tu/vrAgQPy+eFs3rXcj4QQSZIOHDhA54cHBwdnZWWxmvbo0fnhdJNp06YdOnToQXeSzQ+3FwUhxGKxHDx4cMqUKRqNhs5k6uzsXL16NR2wSk9Pr6qqmjJlCutR2msA1oOAuwgEuB/dhclrfnRXgzn7URiQU9NeEb3zlY8p02VHB3Ps7R/rQcBPCMCPqhIx4ffjyr/EjL/86msbR++PqjqqZyq57sd79+5VVVVVWL1qa2vVzNz0TFjYKwi4nwD8qJYp5+8r8IXISsOMhrXr1/Ef3qltjQv1XPejCwfHpiAwmQjAj5MpW25pK/zoFozYiQgE4EcRsowYQQAEnCEAPzpDDduAAAiIQAB+FCHLiBEEQMAZAvCjM9SwDQiAgAgE4EcRsowYQQAEnCEAPzpDDduAAAiIQAB+FCHLiBEEQMAZAvCjM9SwDQiAgAgE4EcRsowYQQAEnCEAPzpDDduAAAiIQAB+FCHLiBEEQMAZAvCjM9SwDQiAgAgE4EcRsowYQQAEnCEAPzpDDduAAAiIQAB+FCHLiBEEQMAZAh7x4/j4+C+//HLm7NnKrypP19W2traOj4870zpsAwIgAAK+I+BmP1oslsuXLy9KW8y+NJsuJCyYX1VdHRiWHBwcPF17etuO7Xn5+TZ/du7eNeEfsfJdxnFkEAABtQTc6cfx8XFTSYk+3KiQI30bZjS89/777K/xqW2gn9W7c+fO4qVLbAYoX7l46ZI7d+74WdvRHBBwnEBrK6mvd3yzANnCnX48VFoaZjToDPrY+GePnzgxMDBACBm9P1p35gzrURZ99BH7Y/OTEeHR8nK5BznLUORkzC/a/C8E6uvJv/0beeQR8sEH/7JemDdu8+PPLS3x8xN1Bv3ipUtu/XJLAbCvr2995ks6g14fbpyftDApNWXCn527dyl24g9vi0tMHCfqDPplK5a/9HImrQNF+kPK0AbnCYSEPJSj0UiuXXN+J5N5S7f5kYojal7MlcZG+rfe29raKr+qvHb9On3syATK9wsrfTs31w/BTujHdRkZnZ2dmzZnQ5F+mD40SS2BkREyb97vchwZUbtVwNVzjx9H749mbXxVZ9C/nJVF/7hzbV1deGSEzqAPMxpMJSWW317bd+6YsNs4P2khfYI5ef04NDw8MDAARQbcxSJSQLm5D+X4H/8hbM+RJts9fhwaHl6XkaEz6KnU2Fvah0pOTTF3mVWeXOYuc3JqCtuVyq28Vk1N/3FoeJgQ4rQiL126NGfOHI1Gs3z58l9//dWh0JqamoxG46lTpxzaSlF5cHAw8bfX4OCgosiHbyVJ2rJly6pVq2y2qqOjY8aMGRkZGd5poW//Rq43EvR//+9DP1654h2efnsUN/lxaOjFdWuZ1Ib+eEv9uDAlWf18l4Dxo3OKvHHjRmho6OzZs00m0xXHz876+vrg4ODPP//clRPOG5ef4+0bHR1dsWJFVFRUT0+P9dbwozUT59fcu/dQjkFBzu8hULZ0jx9dub9e/tyKn376iRBSdvRoUmpKYNxfs9ND3ossLjGx9fYWysrKgoKC6urq7FVwaH1GRsaMGTM6Ojoc2sohPzp3CIfaY7Py1atXQ0JC9uzZQ0vhR5uUnFxZVvbQj2lpTm4eQJu5x4+EEKfHZ2LiYq9dv872MNnHZ8IjIxamJMsfsyYsmE+nPanx4549e0JCQq5eveqWc8w5ecGPE8IP5Pvrjz8m//t/P/SjXw6QTpga91Zwmx/Z8LT6+T3zno3TGfQKP4YZDQkL5ielpkzS+T3M79YLE/pxxowZmj9e1JL0Ovzkk08SEhI0Gk31by+6wM4DuVLZdbtnz54/9vTw/wkfzLGHnlOnTi0oKIiJiUlMTKRP+iwWy4ULF8LCwugOExISWlpaCCH2DtHe3p6enq7VajUazbRp044fP86Z8Xrnzp2ZM2dmZ2ezcPLy8p588sm2tja6pqmp6bHHHjOZTMzara2t1qBo/3H9+vXHjx+fNm2aRqMJDQ3lH5ruf2BgICcnJzg4WKPRTJ06de/evSN/DNdKknTgwAG6t+Dg4JycHDqllxDCOLNmf/PNN/PmzWOI2HVlnUFCiBzRn//858rKSmtEPT090dHRYWFhXV1d9CjFxcVBQUHFxcUMhc1HsaxJzizcu/f7hEejkdy758weAmsblkf1YT1ir6qj88Npl1PhR/bW3lF8u37C8RlrLbI1E/qxq6srPz9/ypQpZ86cMZvNkiTRq0ur1YaHh2/YsOHHH3+0vjJt+nFwcLCjo2PVqlXTpk1ramrq6+vjcPv6668fffRR+tCztLSUqpD5sbKyMjg4ePny5ceOHTOZTE899dTTTz/d3t5u8xC//PLLM888Q3d17NixtLS0oKCgr776yt7RJUlauXJlVFRUb28vIYRe+RqNpqqqim5SVlY2ZcqUxsZGJoW+vr6urq4zZ85MmTIlPz+fgqJ+DAoKevrpp02/vWbPnj1hT7y/vz8pKSkkJGTbtm0VFRWbNm3SarUbN26Ufntt3LhRo9FkZWVVVFRs27YtJCQkKSmpv7/f2o9VVVVarTY6OrqsrIwCnDp1auNvE92sM9jV1RUWFvbUU0+ZTCaKSKvVVlZWWiM6e/asVqvNz8+3WCzt7e1PP/10SkrK4G8vTw2g0TvrBQusGyPmGnf60dHPF9p0jch+pJ0y+VVNr64NGzawz2Wq9CM9m9XcX4+Ojqalpf33f/93a2sr3cpsNs+ZM4f6cXh4+MUXX5SPGtfV1QUFBZWVldk8RGlpqU6na2pqku9q5cqVrP10vfxfk8n0xBNP3Lx5kxBy9erV0NDQkJCQl156iXapsrOzdTpdd3c38yPtNNl8/vjMM8/88ssvdOcNDQ3BwcFFRUXyYymWS0tLtVote9prsVjy8/NpY7799ttHH32UuoluVVlZqdVqDxw4oPBjf39/TExMdHQ0GziivyRSU1NHRkasM1hbW6vRaNjvjJ6enrlz56alpY2OjiqaJ0nSxo0bQ0NDr1+/npOTExISQofsFCgUWzn/dmSEPPXUwzvrlSsf7uTKFVJb69Uf55vuqS3d6Uc6LVz991PAj9ZZlXcGFdchrex2P7a3t0+fPp35iHXiWP9R0UiFmPgKVnMl0x1S4ZpMpqioqF27djEnxsfH07YpdqVohvX4jKKCIgpCCO260gNZl+7atYtZm5b29vZGRUUlJSUNDQ3Js9DY2DhlyhST6V8G3/Ly8h577LGmpiZ5Tbqf+vp6rVabk5PDbuStj87W3Lp1a9asWeHh4SEhIUzWChSssqsLtbW/D1vfufNQi4884u0f2WMWV2Nx0/Zu9iNtlcrvN7tYf9H6+2+279zR3t7upujcvxubTmd30PyFCe+v7fUfq6urWSTW15tcqYpSvrzoPq09orj8xsbGjh8/zp4/0kdsbODY+hDNzc1LliyhT/RoZXuqpQ2g3snOzqbCys7Ovnr16p/+9KeGhoabN28+8cQTVJ2KVima7YQfFTtkhOmCdVyEELZSzlm+zHbCVrIFViRJUm5urkajobfk+/btYx1PVke+8OWXX2o0GvmDSH7L5ds6trxhw0Mhrlv3cKuRkYfjMw+E5c2fP+5gHGu2J2t7xI+ebLCP9y2aHy0WS0FBQXBwcEFBwS+//NLR0UEf/NnzY0NDQ0hISFpaWlNTU0dHR2tr67x58/h+fJDR7OzsqKioq1evzpgxo66ujl7/BQUFVVVVoaGh9NZbIYXJ60d6BpvN5tLS0gULFmi12pCQEM6U/sLCQo1GM2vWrFu3fv9aAwUKN1wSX31F6Eet/+3fMCdczhN+lNOYeDnw/Ejvr+UjyPLLz2w2z5o168UXX2QDrAoxsS4VZffKK69Mnz6d3QHId8WBW1VVNXXq1Pfee2/WrFn0e+Hy8vISExPfeOMN5lbFrhTNcKL/qBgaUjTP+v56cHAwPj5e5f31rl277N1f0/GlsbExekR6B013q2gDIYR+XmD+/PmhoaF04GjCByDWO5lgzcjI72PWzzwj8leZ2aQEP9rEYnelz/1In3ax7pvFYsnNzWVDOoq7OYW8bEYlSdKaNWvk3RP5+Az1DhtgsVgs5eXlQUFBrAGKQ2RkZMhn57S0tMyaNYs5zmYDCCFtbW1PPvlkUFAQO1BDQ8Njjz0WEhKSl5dHt3K7HwkhE47P7N69m/1ioKPJ9sZnEhIS6NA2IYSOUMvHZ+RPSLKzs0NDQ+kcKfYY1CYiSZJWr15Nh84KCwuDg4PPnj3rZj/W1pJnnnl4W40xa1tnJ/xoi4r9dT73Ix0tDQkJKSwsPHbs2Jo1azQajT0/5uXlabXanTt31tXVWQ+PsigbGxunTp3K5vcYDIagoCB6xdIhVI1Gs379+rKysvXr1yuePyoOQWe6PBhPKC0t3bFjx+OPP67RaGxe/OzoD78k9LcxdI1Gw4bFu7u7dTpdUFDQuXPnaE2FH6lSY2Njy8rK2tranOg/PnieSOf3PP7440VFRRUVFVlZWUFBQVu2bLFYLJIkvfHGG0FBQXR+T2FhIWd+T3V1dXBwMJ3fU1ZWFh4erpjfI/fjDz/8wGizgxYWFhJCWlpapk+fThtACDl+/LhWq6VFdDokHSVXoGhqanryySf37dtHB/SeeOKJ6upq2n6j0cj68nLgD5eZGR955GH/8eOP/zlUrawq7nv40bHc+9yP9Cqi08W1Wm16errJZLLnx/b2dlpz0aJFQ0NDnFAvXbpER2CmTp1aWFiYnp7OpDY0NJSTk0PneyckJJw/f3769Omso6c4hMViOX78eGhoKJ0cfuzYsRdeeEHeo7TXhj179ijGi7Ozs2fOnMm+hl0hBYvFcvDgwSlTpmg0mrq6Ouf8SD8jz+aHT5s2rby8nN35jo2NlZSUqJwf/sMPP3Dmh8v9SAhpbm5OS0tjU+gPHDhA5z+1tLRMmzYtJyeHTnicM2eOfNoQ/d2Tn58/MDAgn//43XffPfbYYzt27CCEfP7558HBwVVVVZIkrV+/fubMmWzC07+Qv3Jl4rHpp556OFZz6JDIN93w47+cNhO+8bQfJ2yA0xUyMjJo10/xL7tTdnrPajakjwsVh9ZoNE58PFzN4eR1fBu4vCV+tDwy8vCG+plnbP/QL++Rz+8R9e4bfnTspJ28frxy5UqFrRcdHXaMguO17927V1VVZX382tpaNdMAHT/gP7fwbeD/bMekW2ptfdh5zM5++EU+9FvE6T24/83C8Rxa+NExtpPXj47FidogwAjU1//+jRW0RynSHCD4kZ0FqhbU/30u67niR8vLVR0DlUDADwk8+ERpdvbvf3RBmK/2gR8dOxNV/n1Xaznib3U5Bhq1/ZPAgy/1yc4mwtxiw48On4aDg4Ona09v27Hd+sORNtds27H9dO1p938VlcMNxwYgAAKOEYAfHeOF2iAAAuIQgB/FyTUiBQEQcIwA/OgYL9QGARAQhwD8KE6uESkIgIBjBOBHx3ihNgiAgDgE4Edxco1IQQAEHCMAPzrGC7VBAATEIQA/ipNrRAoCIOAYAfjRMV6oDQIgIA4B+FGcXCNSEAABxwjAj47xQm0QAAFxCMCP4uQakYIACDhGAH50jBdqgwAIiEMAfhQn14gUBEDAMQLwo2O8UBsEQEAcAvCjOLlGpCAAAo4RgB8d44XaIAAC4hCAH8XJNSIFARBwjAD86Bgv1AYBEBCHAPwoTq4RKQiAgGME4EfHeKE2CICAOATgR3FyjUhBAAQcIwA/OsYLtUEABMQhAD+Kk2tECgIg4BgB+NExXqgNAiAgDgH4UZxcI1IQAAHHCLjTj5aR/t6DaXcz/9+76//d+qfr3Wnj/R2OtQ61QQAEQMB3BNzpx4ETm+5m/D/WZmRroEjfJRpHBgEQcJiAO/3Ys2fu3fX/3vHqf/R8EHmvcJ78pyv3CWrJzs2Pytcrlns/XTx86YBlpN/hOLABCIAACLibgPv92JX35Phgt6KdlpH+ng9jWEeSv4BupoIe3oIACPiEgJf8SAhxQJEv/a+Rb0w+wYGDggAIgAAj4D0/skNyFkabTnZk/Z+76/99+EIhpxqKQAAEQMALBOBHL0DGIUAABCYla3hlDQAACvBJREFUAfhxUqYNjQYBEPACAfjRC5BxCBAAgUlJAH6clGlDo0EABLxAAH70AmQcAgRAYFISgB8nZdrQaBAAAS8QgB+9ABmHAAEQmJQE4MdJmTY0GgRAwAsE4EcvQMYhQAAEJiUB+HFSpg2NBgEQ8AIB+NELkHEIEACBSUnA/X60+f1miu8xs/e2e9szd1/6X/j89aQ8ldBoEAg4Au7044Tfj8v/WjNW2vHqf9z/6VzAoUZAIAACk4yAO/3I//sKTH/8hY6N/9/whSJisUwykGguCIBAwBFwpx8DDg4CAgEQEJoA/Ch0+hE8CIAAhwD8yIGDIhAAAaEJwI9Cpx/BgwAIcAjAjxw4KAIBEBCaAPwodPoRPAiAAIcA/MiBgyIQAAGhCcCPQqcfwYMACHAIwI8cOCgCARAQmgD8KHT6ETwIgACHAPzIgYMiEAABoQnAj0KnH8GDAAhwCMCPHDgoAgEQEJoA/Ch0+hE8CIAAhwD8yIGDIhAAAaEJwI9Cpx/BgwAIcAjAjxw4KAIBEBCaAPwodPoRPAiAAIcA/MiBgyIQAAGhCcCPQqcfwYMACHAIwI8cOCgCARAQmgD8KHT6ETwIgACHAPzIgYMiEAABoQnAj0KnH8GDAAhwCMCPHDgoAgEQEJoA/Ch0+hE8CIAAhwD8yIGDIhAAAaEJwI9Cpx/BgwAIcAjAjxw4KAIBEBCaAPwodPoRPAiAAIcA/MiBgyIQAAGhCcCPQqcfwYMACHAIwI8cOCgCARAQmgD8KHT6ETwIgACHAPzIgYMiEAABoQnAj0KnH8GDAAhwCMCPHDgoAgEQEJoA/Ch0+hE8CIAAhwD8yIGDIhAAAaEJwI9Cpx/BgwAIcAjAjxw4KAIBEBCaAPwodPoRPAiAAIcA/MiBgyIQAAGhCcCPQqcfwYMACHAIwI8cOCgCARAQmgD8KHT6ETwIgACHAPzIgYMiEAABoQnAj0KnH8GDAAhwCMCPHDgoAgEQEJoA/Ch0+hE8CIAAhwD8yIGDIhAAAaEJwI9Cpx/BgwAIcAjAjxw4KAIBEBCaAPwodPoRPAiAAIcA/MiBgyIQAAGhCcCPQqcfwYMACHAIwI8cOCgCARAQmgD8KHT6ETwIgACHAPzIgYMiEAABoQnAj0KnH8GDAAhwCMCPHDgoAgEQEJoA/Ch0+hE8CIAAhwD8yIGDIhAAAaEJwI9Cpx/BgwAIcAjAjxw4KAIBEBCaAPwodPoRPAiAAIcA/MiBgyIQAAGhCcCPQqcfwYMACHAIwI8cOCgCARAQmgD8KHT6ETwIgACHAPzIgYMiEAABoQnAj0KnH8GDAAhwCMCPHDgoAgEQEJoA/Ch0+hE8CIAAhwD8yIGDIhAAAaEJwI9Cpx/BgwAIcAjAjxw4KAIBEBCaAPwodPoRPAiAAIcA/MiBgyIQAAGhCcCPQqcfwYMACHAIwI8cOCgCARAQmgD8KHT6ETwIgACHAPzIgYMiEAABoQnAj0KnH8GDAAhwCMCPHDgoAgEQEJoA/Ch0+hE8CIAAhwD8yIGDIhAAAaEJwI9Cpx/BgwAIcAjAjxw4KAIBEBCaAPwodPoRPAiAAIcA/MiBgyIQAAGhCcCPQqcfwYMACHAIwI8cOCgCARAQmgD8KHT6ETwIgACHAPzIgYMiEAABoQnAj0KnH8GDAAhwCMCPHDgoAgEQEJoA/Ch0+hE8CIAAhwD8yIGDIhAAAaEJwI9Cpx/BgwAIcAjAjxw4KAIBEBCaAPwodPoRPAiAAIcA/MiBgyIQAAGhCcCPQqcfwYMACHAIwI8cOCgCARAQmgD8KHT6ETwIgACHAPzIgYMiEAABoQnAj0KnH8GDAAhwCMCPHDgoAgEQEJoA/Ch0+hE8CIAAhwD8yIGDIhAAAaEJwI9Cpx/BgwAIcAjAjxw4KAIBEBCaAPwodPoRPAiAAIcA/MiBgyIQAAGhCcCPQqcfwYMACHAIwI8cOCgCARAQmgD8KHT6ETwIgACHAPzIgYMiEAABoQnAj0KnH8GDAAhwCMCPHDgoAgEQEJoA/Ch0+hE8CIAAhwD8yIGDIhAAAaEJwI9Cpx/BgwAIcAjAjxw4KAIBEBCaAPwodPoRPAiAAIcA/MiBgyIQAAGhCcCPQqcfwYMACHAIwI8cOCgCARAQmgD8KHT6ETwIgACHAPzIgYMiEAABoQnAj0KnH8GDAAhwCMCPHDgoAgEQEJoA/Ch0+hE8CIAAhwD8yIGDIhAAAaEJwI9Cpx/BgwAIcAjAjxw4KAIBEBCaAPwodPoRPAiAAIcA/MiBgyIQAAGhCcCPQqcfwYMACHAIwI8cOCgCARAQmgD8KHT6ETwIgACHAPzIgYMiEAABoQnAj0KnH8GDAAhwCMCPHDgoAgEQEJoA/Ch0+hE8CIAAhwD8yIGDIhAAAaEJwI9Cpx/BgwAIcAjAjxw4KAIBEBCaAPwodPoRPAiAAIcA/MiBgyIQAAGhCcCPQqcfwYMACHAIwI8cOCgCARAQmgD8KHT6ETwIgACHAPzIgYMiEAABoQnAj0KnH8GDAAhwCMCPHDgoAgEQEJoA/Ch0+hE8CIAAhwD8yIGDIhAAAaEJwI9Cpx/BgwAIcAjAjxw4KAIBEBCaAPwodPoRPAiAAIcA/MiBgyIQAAGhCcCPQqcfwYMACHAIwI8cOCgCARAQmgD8KHT6ETwIgACHAPzIgYMiEAABoQnAj0KnH8GDAAhwCMCPHDgoAgEQEJoA/Ch0+hE8CIAAhwD8yIGDIhAAAaEJwI9Cpx/BgwAIcAjAjxw4KAIBEBCaAPwodPoRPAiAAIcA/MiBgyIQAAGhCcCPQqcfwYMACHAIwI8cOCgCARAQmgD8KHT6ETwIgACHAPzIgYMiEAABoQnAj0KnH8GDAAhwCMCPHDgoAgEQEJoA/Ch0+hE8CIAAhwD8yIGDIhAAAaEJwI9Cpx/BgwAIcAjAjxw4KAIBEBCaAPwodPoRPAiAAIcA/MiBgyIQAAGhCcCPQqcfwYMACHAIwI8cOCgCARAQmgD8KHT6ETwIgACHAPzIgYMiEAABoQnAj0KnH8GDAAhwCMCPHDgoAgEQEJoA/Ch0+hE8CIAAhwD8yIGDIhAAAaEJwI9Cpx/BgwAIcAjAjxw4KAIBEBCaAPwodPoRPAiAAIcA/MiBgyIQAAGhCcCPQqcfwYMACHAIwI8cOCgCARAQmgD8KHT6ETwIgACHAPzIgYMiEAABoQnAj0KnH8GDAAhwCMCPHDgoAgEQEJoA/Ch0+hE8CIAAhwD8yIGDIhAAAaEJwI9Cpx/BgwAIcAjAjxw4KAIBEBCaAPwodPoRPAiAAIcA/MiBgyIQAAGhCcCPQqcfwYMACHAIwI8cOCgCARAQmgD8KHT6ETwIgACHAPzIgYMiEAABoQnAj0KnH8GDAAhwCMCPHDgoAgEQEJoA/Ch0+hE8CIAAhwD8yIGDIhAAAaEJwI9Cpx/BgwAIcAjAjxw4KAIBEBCaAPwodPoRPAiAAIcA/MiBgyIQAAGhCcCPQqcfwYMACHAIwI8cOCgCARAQmgD8KHT6ETwIgACHAPzIgYMiEAABoQnAj0KnH8GDAAhwCMCPHDgoAgEQEJoA/Ch0+hE8CIAAhwD8yIGDIhAAAaEJwI9Cpx/BgwAIcAjAjxw4KAIBEBCaAPwodPoRPAiAAIcA/MiBgyIQAAGhCcCPQqcfwYMACHAIwI8cOCgCARAQmgD8KHT6ETwIgACHAPzIgYMiEAABoQnAj0KnH8GDAAhwCDjhx/8f3uxCAfL4ogUAAAAASUVORK5CYII=)\n",
        "\n",
        "\n",
        "\n"
      ]
    },
    {
      "cell_type": "markdown",
      "metadata": {
        "id": "0W3ieC-_b5ye"
      },
      "source": [
        "__1.2 Import the dataset processing library - Pandas, and load the data to the project__\n",
        "\n",
        "Pandas is an open source, BSD-licensed library providing high-performance, easy-to-use data structures and data analysis tools for the Python programming language. It is also compactable with many machine learning pyhton libiraies. We will use `DataFrame` from pandas to manage the raw data files in this project.\n",
        "\n",
        "* Import `pandas` libaray.\n",
        "* read the file into a `DataFrame` by using `pandas.read_table()` function. Also see this [Officical Doc](https://pandas.pydata.org/docs/reference/api/pandas.read_table.html) for more details\n",
        "* You can display the raw `DataFrame` values as a table. see this [Example](https://www.geeksforgeeks.org/display-the-pandas-dataframe-in-table-style/)\n"
      ]
    },
    {
      "cell_type": "code",
      "execution_count": 2,
      "metadata": {
        "colab": {
          "base_uri": "https://localhost:8080/",
          "height": 206
        },
        "id": "wHaUbqzMcS3b",
        "outputId": "863b9e34-ce1d-4535-e0f6-c977e58a34ab"
      },
      "outputs": [
        {
          "data": {
            "text/html": [
              "<div>\n",
              "<style scoped>\n",
              "    .dataframe tbody tr th:only-of-type {\n",
              "        vertical-align: middle;\n",
              "    }\n",
              "\n",
              "    .dataframe tbody tr th {\n",
              "        vertical-align: top;\n",
              "    }\n",
              "\n",
              "    .dataframe thead th {\n",
              "        text-align: right;\n",
              "    }\n",
              "</style>\n",
              "<table border=\"1\" class=\"dataframe\">\n",
              "  <thead>\n",
              "    <tr style=\"text-align: right;\">\n",
              "      <th></th>\n",
              "      <th>fruit_label</th>\n",
              "      <th>fruit_name</th>\n",
              "      <th>fruit_subtype</th>\n",
              "      <th>mass</th>\n",
              "      <th>width</th>\n",
              "      <th>height</th>\n",
              "      <th>color_score</th>\n",
              "    </tr>\n",
              "  </thead>\n",
              "  <tbody>\n",
              "    <tr>\n",
              "      <th>0</th>\n",
              "      <td>1</td>\n",
              "      <td>apple</td>\n",
              "      <td>granny_smith</td>\n",
              "      <td>192</td>\n",
              "      <td>8.4</td>\n",
              "      <td>7.3</td>\n",
              "      <td>0.55</td>\n",
              "    </tr>\n",
              "    <tr>\n",
              "      <th>1</th>\n",
              "      <td>1</td>\n",
              "      <td>apple</td>\n",
              "      <td>granny_smith</td>\n",
              "      <td>180</td>\n",
              "      <td>8.0</td>\n",
              "      <td>6.8</td>\n",
              "      <td>0.59</td>\n",
              "    </tr>\n",
              "    <tr>\n",
              "      <th>2</th>\n",
              "      <td>1</td>\n",
              "      <td>apple</td>\n",
              "      <td>granny_smith</td>\n",
              "      <td>176</td>\n",
              "      <td>7.4</td>\n",
              "      <td>7.2</td>\n",
              "      <td>0.60</td>\n",
              "    </tr>\n",
              "    <tr>\n",
              "      <th>3</th>\n",
              "      <td>2</td>\n",
              "      <td>mandarin</td>\n",
              "      <td>mandarin</td>\n",
              "      <td>86</td>\n",
              "      <td>6.2</td>\n",
              "      <td>4.7</td>\n",
              "      <td>0.80</td>\n",
              "    </tr>\n",
              "    <tr>\n",
              "      <th>4</th>\n",
              "      <td>2</td>\n",
              "      <td>mandarin</td>\n",
              "      <td>mandarin</td>\n",
              "      <td>84</td>\n",
              "      <td>6.0</td>\n",
              "      <td>4.6</td>\n",
              "      <td>0.79</td>\n",
              "    </tr>\n",
              "  </tbody>\n",
              "</table>\n",
              "</div>"
            ],
            "text/plain": [
              "   fruit_label fruit_name fruit_subtype  mass  width  height  color_score\n",
              "0            1      apple  granny_smith   192    8.4     7.3         0.55\n",
              "1            1      apple  granny_smith   180    8.0     6.8         0.59\n",
              "2            1      apple  granny_smith   176    7.4     7.2         0.60\n",
              "3            2   mandarin      mandarin    86    6.2     4.7         0.80\n",
              "4            2   mandarin      mandarin    84    6.0     4.6         0.79"
            ]
          },
          "execution_count": 2,
          "metadata": {},
          "output_type": "execute_result"
        }
      ],
      "source": [
        "import pandas as pd\n",
        "fruits = pd.read_excel('data/fruit_data_with_colors.xlsx')\n",
        "fruits.head()"
      ]
    },
    {
      "cell_type": "markdown",
      "metadata": {
        "id": "DhagxR86dz_6"
      },
      "source": [
        "##<font color=\"#672146\"> 2. Understand the dataset a bit more</font>\n",
        "\n",
        "You can use some pandas build-in functions for the `DataFrame` to check the data quality, distribution, size and statistic features.\n",
        "\n",
        "__2.1 Check the dataset's size. See the [Doc](https://pandas.pydata.org/docs/reference/api/pandas.DataFrame.shape.html) for more details__"
      ]
    },
    {
      "cell_type": "code",
      "execution_count": 3,
      "metadata": {
        "colab": {
          "base_uri": "https://localhost:8080/"
        },
        "id": "5Jt6CrTzeWOe",
        "outputId": "7a014049-2d16-4fe0-e193-ac3bfcb3e621"
      },
      "outputs": [
        {
          "data": {
            "text/plain": [
              "(59, 7)"
            ]
          },
          "execution_count": 3,
          "metadata": {},
          "output_type": "execute_result"
        }
      ],
      "source": [
        "fruits.shape"
      ]
    },
    {
      "cell_type": "markdown",
      "metadata": {
        "id": "YT268Q2LZTFt"
      },
      "source": [
        "\n",
        "\n",
        "__2.2 Check the lables of the dataset (How many different fruits are in this dataset)__\n",
        "\n",
        "There is no \"check lable\" functions in pandas. However, we can use some basic `DataFrame` operations instead:\n",
        "1. \"Slicing\" one single colume - \"fruit_name\" out from the `DataFrame`\n",
        "\n",
        ">\"Slice\" and \"Select\" from the `DataFrame` is useful for many data processing tasks. Please Read the [Doc](https://pandas.pydata.org/pandas-docs/stable/user_guide/indexing.html) for more details.\n",
        "\n",
        "2. and then use `unique()` functions to pick up all the unqiue members in this colume\n",
        "\n",
        "*You can try to do two steps by using only one Pyhton statement*\n",
        "\n"
      ]
    },
    {
      "cell_type": "code",
      "execution_count": 4,
      "metadata": {
        "colab": {
          "base_uri": "https://localhost:8080/"
        },
        "id": "FHl2N6Iier0a",
        "outputId": "1f674d66-1d76-45ab-9d35-9b7d75fdb750"
      },
      "outputs": [
        {
          "data": {
            "text/plain": [
              "array(['apple', 'mandarin', 'orange', 'lemon'], dtype=object)"
            ]
          },
          "execution_count": 4,
          "metadata": {},
          "output_type": "execute_result"
        }
      ],
      "source": [
        "fruits['fruit_name'].unique()"
      ]
    },
    {
      "cell_type": "markdown",
      "metadata": {
        "id": "YA7AFer8dgSj"
      },
      "source": [
        "__2.3 check the basic stat features from this dataset__\n",
        "\n",
        "Some basic stats such as *mean, standard deviation*, and *data distributions* can be checked by using `DataFrame`'s `describe()` function"
      ]
    },
    {
      "cell_type": "code",
      "execution_count": 5,
      "metadata": {
        "colab": {
          "base_uri": "https://localhost:8080/",
          "height": 297
        },
        "id": "SJ_BttUVfaWo",
        "outputId": "c0f07955-0233-403f-bd55-ad1bcf290c22"
      },
      "outputs": [
        {
          "data": {
            "text/html": [
              "<div>\n",
              "<style scoped>\n",
              "    .dataframe tbody tr th:only-of-type {\n",
              "        vertical-align: middle;\n",
              "    }\n",
              "\n",
              "    .dataframe tbody tr th {\n",
              "        vertical-align: top;\n",
              "    }\n",
              "\n",
              "    .dataframe thead th {\n",
              "        text-align: right;\n",
              "    }\n",
              "</style>\n",
              "<table border=\"1\" class=\"dataframe\">\n",
              "  <thead>\n",
              "    <tr style=\"text-align: right;\">\n",
              "      <th></th>\n",
              "      <th>fruit_label</th>\n",
              "      <th>mass</th>\n",
              "      <th>width</th>\n",
              "      <th>height</th>\n",
              "      <th>color_score</th>\n",
              "    </tr>\n",
              "  </thead>\n",
              "  <tbody>\n",
              "    <tr>\n",
              "      <th>count</th>\n",
              "      <td>59.000000</td>\n",
              "      <td>59.000000</td>\n",
              "      <td>59.000000</td>\n",
              "      <td>59.000000</td>\n",
              "      <td>59.000000</td>\n",
              "    </tr>\n",
              "    <tr>\n",
              "      <th>mean</th>\n",
              "      <td>2.542373</td>\n",
              "      <td>163.118644</td>\n",
              "      <td>7.105085</td>\n",
              "      <td>7.693220</td>\n",
              "      <td>0.762881</td>\n",
              "    </tr>\n",
              "    <tr>\n",
              "      <th>std</th>\n",
              "      <td>1.208048</td>\n",
              "      <td>55.018832</td>\n",
              "      <td>0.816938</td>\n",
              "      <td>1.361017</td>\n",
              "      <td>0.076857</td>\n",
              "    </tr>\n",
              "    <tr>\n",
              "      <th>min</th>\n",
              "      <td>1.000000</td>\n",
              "      <td>76.000000</td>\n",
              "      <td>5.800000</td>\n",
              "      <td>4.000000</td>\n",
              "      <td>0.550000</td>\n",
              "    </tr>\n",
              "    <tr>\n",
              "      <th>25%</th>\n",
              "      <td>1.000000</td>\n",
              "      <td>140.000000</td>\n",
              "      <td>6.600000</td>\n",
              "      <td>7.200000</td>\n",
              "      <td>0.720000</td>\n",
              "    </tr>\n",
              "    <tr>\n",
              "      <th>50%</th>\n",
              "      <td>3.000000</td>\n",
              "      <td>158.000000</td>\n",
              "      <td>7.200000</td>\n",
              "      <td>7.600000</td>\n",
              "      <td>0.750000</td>\n",
              "    </tr>\n",
              "    <tr>\n",
              "      <th>75%</th>\n",
              "      <td>4.000000</td>\n",
              "      <td>177.000000</td>\n",
              "      <td>7.500000</td>\n",
              "      <td>8.200000</td>\n",
              "      <td>0.810000</td>\n",
              "    </tr>\n",
              "    <tr>\n",
              "      <th>max</th>\n",
              "      <td>4.000000</td>\n",
              "      <td>362.000000</td>\n",
              "      <td>9.600000</td>\n",
              "      <td>10.500000</td>\n",
              "      <td>0.930000</td>\n",
              "    </tr>\n",
              "  </tbody>\n",
              "</table>\n",
              "</div>"
            ],
            "text/plain": [
              "       fruit_label        mass      width     height  color_score\n",
              "count    59.000000   59.000000  59.000000  59.000000    59.000000\n",
              "mean      2.542373  163.118644   7.105085   7.693220     0.762881\n",
              "std       1.208048   55.018832   0.816938   1.361017     0.076857\n",
              "min       1.000000   76.000000   5.800000   4.000000     0.550000\n",
              "25%       1.000000  140.000000   6.600000   7.200000     0.720000\n",
              "50%       3.000000  158.000000   7.200000   7.600000     0.750000\n",
              "75%       4.000000  177.000000   7.500000   8.200000     0.810000\n",
              "max       4.000000  362.000000   9.600000  10.500000     0.930000"
            ]
          },
          "execution_count": 5,
          "metadata": {},
          "output_type": "execute_result"
        }
      ],
      "source": [
        "fruits.describe()"
      ]
    },
    {
      "cell_type": "markdown",
      "metadata": {
        "id": "6de7yeHcf2sg"
      },
      "source": [
        "__2.4 Use Plot to explore the data__\n",
        "\n",
        "Instead of using tables, using visualisaiton tool could help us to explore the large dataset more easliy.\n",
        "\n",
        "There are many visualisation libraries to use in Python. One of them is called Seaborn. Lets draw a histogram here so we know how many samples are in each group!\n",
        "\n",
        "You need to firstly `import seaborn` and then use its `histplot()` function. See more details in this [Doc](https://seaborn.pydata.org/generated/seaborn.histplot.html)\n",
        "\n"
      ]
    },
    {
      "cell_type": "code",
      "execution_count": 6,
      "metadata": {
        "colab": {
          "base_uri": "https://localhost:8080/",
          "height": 297
        },
        "id": "vkJKRtG_fDke",
        "outputId": "063c942c-eca9-44ed-b032-ba96d45a99ac"
      },
      "outputs": [
        {
          "data": {
            "text/plain": [
              "<Axes: xlabel='fruit_name', ylabel='Count'>"
            ]
          },
          "execution_count": 6,
          "metadata": {},
          "output_type": "execute_result"
        },
        {
          "data": {
            "image/png": "[encoded data removed]",
            "text/plain": [
              "<Figure size 640x480 with 1 Axes>"
            ]
          },
          "metadata": {},
          "output_type": "display_data"
        }
      ],
      "source": [
        "import seaborn as sb\n",
        "sb.histplot(fruits['fruit_name'])"
      ]
    },
    {
      "cell_type": "markdown",
      "metadata": {
        "id": "hvN1vLDKMmOj"
      },
      "source": [
        "> *Exercise:* Check the correlations in your features. What are the most correlated?"
      ]
    },
    {
      "cell_type": "markdown",
      "metadata": {
        "id": "opSt-sYuf4tH"
      },
      "source": [
        "## <font color=\"#672146\">3. Create training and testing datasets </font>\n",
        "\n",
        "Since we are building a supervised machine learning system, the data needs to be labelled in order to train the classification model. Also, we do not use all the data for training but leave some data (usually 30%) for checking their accuracy."
      ]
    },
    {
      "cell_type": "markdown",
      "metadata": {
        "id": "UJZnyPaZg0_9"
      },
      "source": [
        "__3.1 Install/Import Scikit-Learn__\n",
        "\n",
        "It is a simple and efficient tools to create machine learning algorithms in Python"
      ]
    },
    {
      "cell_type": "code",
      "execution_count": 7,
      "metadata": {
        "id": "l46f-kBjgxJX"
      },
      "outputs": [],
      "source": [
        "import sklearn"
      ]
    },
    {
      "cell_type": "markdown",
      "metadata": {
        "id": "jdpUdMMShkfr"
      },
      "source": [
        "__3.2 Create the input features and output labels from the datase__"
      ]
    },
    {
      "cell_type": "code",
      "execution_count": 8,
      "metadata": {
        "id": "wS8c_pEdhpZ0"
      },
      "outputs": [],
      "source": [
        "X = fruits[['mass', 'width', 'height', 'color_score']]\n",
        "y = fruits[['fruit_label']]"
      ]
    },
    {
      "cell_type": "markdown",
      "metadata": {
        "id": "XgbtlLX1iTQT"
      },
      "source": [
        "__3.3 Separate the entire dataset into training and testing datasets using the build-in sklearn\n",
        "functions__"
      ]
    },
    {
      "cell_type": "code",
      "execution_count": 9,
      "metadata": {
        "id": "w-KCGtG7iNo3"
      },
      "outputs": [],
      "source": [
        "from sklearn.model_selection import train_test_split\n",
        "X_train, X_test, y_train, y_test = train_test_split(X,y)"
      ]
    },
    {
      "cell_type": "markdown",
      "metadata": {
        "id": "5oLwZAGIjALj"
      },
      "source": [
        "## <font color=\"#672146\">4. Train your KNN classifier and check the performance</font>\n",
        "Use what you learned with the previous dataset to train a KNN classifier for the task.\n",
        "\n",
        "4.1. Train the knn classifier\n",
        "4.2. Evaluate the performance using the accuracy, confusion matrix, precision and recall\n",
        "4.3. Perform cross-validation and select the right k. How does it differ from the classifier for the Iris dataset?\n",
        "4.4. Change the feature you include and report the changes in performance."
      ]
    },
    {
      "cell_type": "code",
      "execution_count": 10,
      "metadata": {
        "id": "A85v4fzjkP1s"
      },
      "outputs": [],
      "source": [
        "# Your code here"
      ]
    },
    {
      "cell_type": "markdown",
      "metadata": {
        "id": "zFyZso5IL8XE"
      },
      "source": [
        "# <font color=\"#672146\">5. Develop a simple interface for your classifier</font>\n",
        "\n"
      ]
    },
    {
      "cell_type": "markdown",
      "metadata": {
        "id": "RxK2FL3tMUSs"
      },
      "source": [
        "Ask the user to type a the mass,\twidth,\theight and color score of a fruit. Use your classifier to make a prediction.\n",
        "\n",
        "Example:\n",
        "\n",
        "```\n",
        "mass = input(\"Mass: \")\n",
        "```\n",
        "\n"
      ]
    },
    {
      "cell_type": "code",
      "execution_count": 11,
      "metadata": {
        "id": "dhj1TOzbkg8h"
      },
      "outputs": [],
      "source": [
        "# Your code here"
      ]
    },
    {
      "cell_type": "markdown",
      "metadata": {
        "id": "dPIyK_2MpXy6"
      },
      "source": [
        "## <font color=\"#672146\">6. [Extra] Machine Learning Visualisation </font>\n",
        "If you are familiar with Python, you can use some data visualisation libraries such as matplotlib to visualise the distribution of the data in a plot graph.\n",
        "\n",
        "\n",
        "*   Can you display any two feature pairs (i.e. height - width of fruit dataset or petal_length - petal_width of iris dataset) in a 2D plot?\n",
        "*   Can you also use different colours for different labels?\n",
        "*   Can you also draw the trained decision boundaries? (you need to use mesh)\n",
        "\n",
        "\n"
      ]
    },
    {
      "cell_type": "code",
      "execution_count": 12,
      "metadata": {
        "colab": {
          "base_uri": "https://localhost:8080/",
          "height": 376
        },
        "id": "LaxrsKcDqmDl",
        "outputId": "e26aa920-e0d6-4047-acb4-9f4ed5a0dcbf"
      },
      "outputs": [
        {
          "data": {
            "image/png": "[encoded data removed]",
            "text/plain": [
              "<Figure size 640x480 with 1 Axes>"
            ]
          },
          "metadata": {},
          "output_type": "display_data"
        }
      ],
      "source": [
        "from sklearn import neighbors\n",
        "from sklearn.neighbors import KNeighborsClassifier\n",
        "import numpy as np\n",
        "import matplotlib.pyplot as plt\n",
        "import matplotlib.cm as cm\n",
        "from matplotlib.colors import ListedColormap, BoundaryNorm\n",
        "import matplotlib.patches as mpatches\n",
        "\n",
        "X = fruits[['mass', 'width', 'height', 'color_score']]\n",
        "y = fruits['fruit_label']\n",
        "X_train, X_test, y_train, y_test = train_test_split(X, y, random_state=0)\n",
        "\n",
        "def plot_fruit_knn(X, y, n_neighbors, weights):\n",
        "    X_mat = X[['height', 'width']].values\n",
        "    y_mat = y.values\n",
        "\n",
        "  # Create color maps\n",
        "    cmap_light = ListedColormap(['#FFAAAA', '#AAFFAA', '#AAAAFF','#AFAFAF'])\n",
        "    cmap_bold  = ListedColormap(['#FF0000', '#00FF00', '#0000FF','#AFAFAF'])\n",
        "    clf = neighbors.KNeighborsClassifier(n_neighbors, weights=weights)\n",
        "    clf.fit(X_mat,y_mat)\n",
        "\n",
        "  # Plot the decision boundary by assigning a color in the color map to each mesh point.\n",
        "\n",
        "    mesh_step_size = .01  # step size in the mesh\n",
        "    plot_symbol_size = 50\n",
        "\n",
        "    x_min, x_max = X_mat[:, 0].min() - 1, X_mat[:, 0].max() + 1\n",
        "    y_min, y_max = X_mat[:, 1].min() - 1, X_mat[:, 1].max() + 1\n",
        "    xx, yy = np.meshgrid(np.arange(x_min, x_max, mesh_step_size),\n",
        "                         np.arange(y_min, y_max, mesh_step_size))\n",
        "    Z = clf.predict(np.c_[xx.ravel(), yy.ravel()])\n",
        "  # Put the result into a color plot\n",
        "    Z = Z.reshape(xx.shape)\n",
        "    plt.figure()\n",
        "    plt.pcolormesh(xx, yy, Z, cmap=cmap_light)\n",
        "  # Plot training points\n",
        "    plt.scatter(X_mat[:, 0], X_mat[:, 1], s=plot_symbol_size, c=y, cmap=cmap_bold, edgecolor = 'black')\n",
        "    plt.xlim(xx.min(), xx.max())\n",
        "    plt.ylim(yy.min(), yy.max())\n",
        "    patch0 = mpatches.Patch(color='#FF0000', label='apple')\n",
        "    patch1 = mpatches.Patch(color='#00FF00', label='mandarin')\n",
        "    patch2 = mpatches.Patch(color='#0000FF', label='orange')\n",
        "    patch3 = mpatches.Patch(color='#AFAFAF', label='lemon')\n",
        "    plt.legend(handles=[patch0, patch1, patch2, patch3])\n",
        "    plt.xlabel('height (cm)')\n",
        "    plt.ylabel('width (cm)')\n",
        "    plt.title(\"4-Class classification (k = %i, weights = '%s')\"% (n_neighbors, weights))\n",
        "    plt.show()\n",
        "\n",
        "plot_fruit_knn(X_train, y_train, 5, 'uniform')"
      ]
    }
  ],
  "metadata": {
    "colab": {
      "provenance": []
    },
    "kernelspec": {
      "display_name": ".venv",
      "language": "python",
      "name": "python3"
    },
    "language_info": {
      "codemirror_mode": {
        "name": "ipython",
        "version": 3
      },
      "file_extension": ".py",
      "mimetype": "text/x-python",
      "name": "python",
      "nbconvert_exporter": "python",
      "pygments_lexer": "ipython3",
      "version": "3.12.11"
    }
  },
  "nbformat": 4,
  "nbformat_minor": 0
}
